{
 "cells": [
  {
   "cell_type": "markdown",
   "id": "51b21752",
   "metadata": {},
   "source": [
    "# Projeto de Estatística II\n",
    "\n",
    "\n",
    "## Parte II - Regressão Logística e Hipóteses mais complexas\n",
    "\n",
    "-------------------------------\n",
    "\n",
    "**Instruções:**\n",
    "\n",
    "- A segunda parte do projeto engloba a avaliação dos tópicos de Regressão Logística e Hipóteses mais complexas.\n",
    "- Ela deve ser entregue até o dia 05/09/2022.\n",
    "- Para a entrega, salve seu notebook na pasta Projetos do nosso drive com o nome do notebook com o seguinte padrão: [primeiro nome]_[sobrenome]_projeto_estatistica_II_parteII.ipynb\n",
    "- A avaliação será registrada nos notebooks em formato de comentários.\n",
    "-------------------------------"
   ]
  },
  {
   "cell_type": "markdown",
   "id": "5b0391d2",
   "metadata": {},
   "source": [
    "1. Treine um um modelo de regressão logística para o dataset 'Pima Indians Diabetes Database' (diabetes.csv) com o objetivo de prever diagnosticamente se um paciente tem ou não diabetes. Maiores detalhes sobre o dataset podem ser encontrados [aqui](https://www.kaggle.com/datasets/uciml/pima-indians-diabetes-database)."
   ]
  },
  {
   "cell_type": "code",
   "execution_count": 68,
   "id": "a5d8c21d",
   "metadata": {},
   "outputs": [
    {
     "data": {
      "text/html": [
       "<div>\n",
       "<style scoped>\n",
       "    .dataframe tbody tr th:only-of-type {\n",
       "        vertical-align: middle;\n",
       "    }\n",
       "\n",
       "    .dataframe tbody tr th {\n",
       "        vertical-align: top;\n",
       "    }\n",
       "\n",
       "    .dataframe thead th {\n",
       "        text-align: right;\n",
       "    }\n",
       "</style>\n",
       "<table border=\"1\" class=\"dataframe\">\n",
       "  <thead>\n",
       "    <tr style=\"text-align: right;\">\n",
       "      <th></th>\n",
       "      <th>Pregnancies</th>\n",
       "      <th>Glucose</th>\n",
       "      <th>BloodPressure</th>\n",
       "      <th>SkinThickness</th>\n",
       "      <th>Insulin</th>\n",
       "      <th>BMI</th>\n",
       "      <th>DiabetesPedigreeFunction</th>\n",
       "      <th>Age</th>\n",
       "      <th>Outcome</th>\n",
       "    </tr>\n",
       "  </thead>\n",
       "  <tbody>\n",
       "    <tr>\n",
       "      <th>0</th>\n",
       "      <td>6</td>\n",
       "      <td>148</td>\n",
       "      <td>72</td>\n",
       "      <td>35</td>\n",
       "      <td>0</td>\n",
       "      <td>33.6</td>\n",
       "      <td>0.627</td>\n",
       "      <td>50</td>\n",
       "      <td>1</td>\n",
       "    </tr>\n",
       "    <tr>\n",
       "      <th>1</th>\n",
       "      <td>1</td>\n",
       "      <td>85</td>\n",
       "      <td>66</td>\n",
       "      <td>29</td>\n",
       "      <td>0</td>\n",
       "      <td>26.6</td>\n",
       "      <td>0.351</td>\n",
       "      <td>31</td>\n",
       "      <td>0</td>\n",
       "    </tr>\n",
       "    <tr>\n",
       "      <th>2</th>\n",
       "      <td>8</td>\n",
       "      <td>183</td>\n",
       "      <td>64</td>\n",
       "      <td>0</td>\n",
       "      <td>0</td>\n",
       "      <td>23.3</td>\n",
       "      <td>0.672</td>\n",
       "      <td>32</td>\n",
       "      <td>1</td>\n",
       "    </tr>\n",
       "    <tr>\n",
       "      <th>3</th>\n",
       "      <td>1</td>\n",
       "      <td>89</td>\n",
       "      <td>66</td>\n",
       "      <td>23</td>\n",
       "      <td>94</td>\n",
       "      <td>28.1</td>\n",
       "      <td>0.167</td>\n",
       "      <td>21</td>\n",
       "      <td>0</td>\n",
       "    </tr>\n",
       "    <tr>\n",
       "      <th>4</th>\n",
       "      <td>0</td>\n",
       "      <td>137</td>\n",
       "      <td>40</td>\n",
       "      <td>35</td>\n",
       "      <td>168</td>\n",
       "      <td>43.1</td>\n",
       "      <td>2.288</td>\n",
       "      <td>33</td>\n",
       "      <td>1</td>\n",
       "    </tr>\n",
       "  </tbody>\n",
       "</table>\n",
       "</div>"
      ],
      "text/plain": [
       "   Pregnancies  Glucose  BloodPressure  SkinThickness  Insulin   BMI  \\\n",
       "0            6      148             72             35        0  33.6   \n",
       "1            1       85             66             29        0  26.6   \n",
       "2            8      183             64              0        0  23.3   \n",
       "3            1       89             66             23       94  28.1   \n",
       "4            0      137             40             35      168  43.1   \n",
       "\n",
       "   DiabetesPedigreeFunction  Age  Outcome  \n",
       "0                     0.627   50        1  \n",
       "1                     0.351   31        0  \n",
       "2                     0.672   32        1  \n",
       "3                     0.167   21        0  \n",
       "4                     2.288   33        1  "
      ]
     },
     "execution_count": 68,
     "metadata": {},
     "output_type": "execute_result"
    }
   ],
   "source": [
    "import pandas as pd\n",
    "\n",
    "df = pd.read_csv('diabetes.csv')\n",
    "\n",
    "df.head()"
   ]
  },
  {
   "cell_type": "code",
   "execution_count": 69,
   "id": "dd12d135",
   "metadata": {},
   "outputs": [
    {
     "name": "stdout",
     "output_type": "stream",
     "text": [
      "<class 'pandas.core.frame.DataFrame'>\n",
      "RangeIndex: 768 entries, 0 to 767\n",
      "Data columns (total 9 columns):\n",
      " #   Column                    Non-Null Count  Dtype  \n",
      "---  ------                    --------------  -----  \n",
      " 0   Pregnancies               768 non-null    int64  \n",
      " 1   Glucose                   768 non-null    int64  \n",
      " 2   BloodPressure             768 non-null    int64  \n",
      " 3   SkinThickness             768 non-null    int64  \n",
      " 4   Insulin                   768 non-null    int64  \n",
      " 5   BMI                       768 non-null    float64\n",
      " 6   DiabetesPedigreeFunction  768 non-null    float64\n",
      " 7   Age                       768 non-null    int64  \n",
      " 8   Outcome                   768 non-null    int64  \n",
      "dtypes: float64(2), int64(7)\n",
      "memory usage: 54.1 KB\n"
     ]
    }
   ],
   "source": [
    "# Iniciando análise dos dados\n",
    "df.info()"
   ]
  },
  {
   "cell_type": "code",
   "execution_count": 70,
   "id": "ec078048",
   "metadata": {},
   "outputs": [
    {
     "data": {
      "text/html": [
       "<div>\n",
       "<style scoped>\n",
       "    .dataframe tbody tr th:only-of-type {\n",
       "        vertical-align: middle;\n",
       "    }\n",
       "\n",
       "    .dataframe tbody tr th {\n",
       "        vertical-align: top;\n",
       "    }\n",
       "\n",
       "    .dataframe thead th {\n",
       "        text-align: right;\n",
       "    }\n",
       "</style>\n",
       "<table border=\"1\" class=\"dataframe\">\n",
       "  <thead>\n",
       "    <tr style=\"text-align: right;\">\n",
       "      <th></th>\n",
       "      <th>Pregnancies</th>\n",
       "      <th>Glucose</th>\n",
       "      <th>BloodPressure</th>\n",
       "      <th>SkinThickness</th>\n",
       "      <th>Insulin</th>\n",
       "      <th>BMI</th>\n",
       "      <th>DiabetesPedigreeFunction</th>\n",
       "      <th>Age</th>\n",
       "      <th>Outcome</th>\n",
       "    </tr>\n",
       "  </thead>\n",
       "  <tbody>\n",
       "    <tr>\n",
       "      <th>count</th>\n",
       "      <td>768.000000</td>\n",
       "      <td>768.000000</td>\n",
       "      <td>768.000000</td>\n",
       "      <td>768.000000</td>\n",
       "      <td>768.000000</td>\n",
       "      <td>768.000000</td>\n",
       "      <td>768.000000</td>\n",
       "      <td>768.000000</td>\n",
       "      <td>768.000000</td>\n",
       "    </tr>\n",
       "    <tr>\n",
       "      <th>mean</th>\n",
       "      <td>3.845052</td>\n",
       "      <td>120.894531</td>\n",
       "      <td>69.105469</td>\n",
       "      <td>20.536458</td>\n",
       "      <td>79.799479</td>\n",
       "      <td>31.992578</td>\n",
       "      <td>0.471876</td>\n",
       "      <td>33.240885</td>\n",
       "      <td>0.348958</td>\n",
       "    </tr>\n",
       "    <tr>\n",
       "      <th>std</th>\n",
       "      <td>3.369578</td>\n",
       "      <td>31.972618</td>\n",
       "      <td>19.355807</td>\n",
       "      <td>15.952218</td>\n",
       "      <td>115.244002</td>\n",
       "      <td>7.884160</td>\n",
       "      <td>0.331329</td>\n",
       "      <td>11.760232</td>\n",
       "      <td>0.476951</td>\n",
       "    </tr>\n",
       "    <tr>\n",
       "      <th>min</th>\n",
       "      <td>0.000000</td>\n",
       "      <td>0.000000</td>\n",
       "      <td>0.000000</td>\n",
       "      <td>0.000000</td>\n",
       "      <td>0.000000</td>\n",
       "      <td>0.000000</td>\n",
       "      <td>0.078000</td>\n",
       "      <td>21.000000</td>\n",
       "      <td>0.000000</td>\n",
       "    </tr>\n",
       "    <tr>\n",
       "      <th>25%</th>\n",
       "      <td>1.000000</td>\n",
       "      <td>99.000000</td>\n",
       "      <td>62.000000</td>\n",
       "      <td>0.000000</td>\n",
       "      <td>0.000000</td>\n",
       "      <td>27.300000</td>\n",
       "      <td>0.243750</td>\n",
       "      <td>24.000000</td>\n",
       "      <td>0.000000</td>\n",
       "    </tr>\n",
       "    <tr>\n",
       "      <th>50%</th>\n",
       "      <td>3.000000</td>\n",
       "      <td>117.000000</td>\n",
       "      <td>72.000000</td>\n",
       "      <td>23.000000</td>\n",
       "      <td>30.500000</td>\n",
       "      <td>32.000000</td>\n",
       "      <td>0.372500</td>\n",
       "      <td>29.000000</td>\n",
       "      <td>0.000000</td>\n",
       "    </tr>\n",
       "    <tr>\n",
       "      <th>75%</th>\n",
       "      <td>6.000000</td>\n",
       "      <td>140.250000</td>\n",
       "      <td>80.000000</td>\n",
       "      <td>32.000000</td>\n",
       "      <td>127.250000</td>\n",
       "      <td>36.600000</td>\n",
       "      <td>0.626250</td>\n",
       "      <td>41.000000</td>\n",
       "      <td>1.000000</td>\n",
       "    </tr>\n",
       "    <tr>\n",
       "      <th>max</th>\n",
       "      <td>17.000000</td>\n",
       "      <td>199.000000</td>\n",
       "      <td>122.000000</td>\n",
       "      <td>99.000000</td>\n",
       "      <td>846.000000</td>\n",
       "      <td>67.100000</td>\n",
       "      <td>2.420000</td>\n",
       "      <td>81.000000</td>\n",
       "      <td>1.000000</td>\n",
       "    </tr>\n",
       "  </tbody>\n",
       "</table>\n",
       "</div>"
      ],
      "text/plain": [
       "       Pregnancies     Glucose  BloodPressure  SkinThickness     Insulin  \\\n",
       "count   768.000000  768.000000     768.000000     768.000000  768.000000   \n",
       "mean      3.845052  120.894531      69.105469      20.536458   79.799479   \n",
       "std       3.369578   31.972618      19.355807      15.952218  115.244002   \n",
       "min       0.000000    0.000000       0.000000       0.000000    0.000000   \n",
       "25%       1.000000   99.000000      62.000000       0.000000    0.000000   \n",
       "50%       3.000000  117.000000      72.000000      23.000000   30.500000   \n",
       "75%       6.000000  140.250000      80.000000      32.000000  127.250000   \n",
       "max      17.000000  199.000000     122.000000      99.000000  846.000000   \n",
       "\n",
       "              BMI  DiabetesPedigreeFunction         Age     Outcome  \n",
       "count  768.000000                768.000000  768.000000  768.000000  \n",
       "mean    31.992578                  0.471876   33.240885    0.348958  \n",
       "std      7.884160                  0.331329   11.760232    0.476951  \n",
       "min      0.000000                  0.078000   21.000000    0.000000  \n",
       "25%     27.300000                  0.243750   24.000000    0.000000  \n",
       "50%     32.000000                  0.372500   29.000000    0.000000  \n",
       "75%     36.600000                  0.626250   41.000000    1.000000  \n",
       "max     67.100000                  2.420000   81.000000    1.000000  "
      ]
     },
     "execution_count": 70,
     "metadata": {},
     "output_type": "execute_result"
    }
   ],
   "source": [
    "df.describe()"
   ]
  },
  {
   "cell_type": "markdown",
   "id": "871585e5",
   "metadata": {},
   "source": [
    "Existem dados um pouco preocupantes nas colunas **Insulin** e **SkinThickness**. Muitos valores como 0 até o primeiro quartil. Por enquanto, apesar da preocupação, não farei nada com os dados."
   ]
  },
  {
   "cell_type": "code",
   "execution_count": 71,
   "id": "2ed8c99d",
   "metadata": {},
   "outputs": [
    {
     "data": {
      "text/plain": [
       "Pregnancies                 0\n",
       "Glucose                     0\n",
       "BloodPressure               0\n",
       "SkinThickness               0\n",
       "Insulin                     0\n",
       "BMI                         0\n",
       "DiabetesPedigreeFunction    0\n",
       "Age                         0\n",
       "Outcome                     0\n",
       "dtype: int64"
      ]
     },
     "execution_count": 71,
     "metadata": {},
     "output_type": "execute_result"
    }
   ],
   "source": [
    "# Verificando nulos\n",
    "df.isnull().sum()"
   ]
  },
  {
   "cell_type": "code",
   "execution_count": 72,
   "id": "aa1e8346",
   "metadata": {},
   "outputs": [
    {
     "data": {
      "text/plain": [
       "0"
      ]
     },
     "execution_count": 72,
     "metadata": {},
     "output_type": "execute_result"
    }
   ],
   "source": [
    "# Verificando dados duplicados\n",
    "df.duplicated().sum()"
   ]
  },
  {
   "cell_type": "code",
   "execution_count": 73,
   "id": "ed5feb90",
   "metadata": {},
   "outputs": [
    {
     "data": {
      "text/plain": [
       "{'whiskers': [<matplotlib.lines.Line2D at 0x7f49620150c0>,\n",
       "  <matplotlib.lines.Line2D at 0x7f4962015390>,\n",
       "  <matplotlib.lines.Line2D at 0x7f4962016470>,\n",
       "  <matplotlib.lines.Line2D at 0x7f4962016740>,\n",
       "  <matplotlib.lines.Line2D at 0x7f4962017820>,\n",
       "  <matplotlib.lines.Line2D at 0x7f4962017af0>,\n",
       "  <matplotlib.lines.Line2D at 0x7f496204cc10>,\n",
       "  <matplotlib.lines.Line2D at 0x7f496204cee0>,\n",
       "  <matplotlib.lines.Line2D at 0x7f496204dfc0>,\n",
       "  <matplotlib.lines.Line2D at 0x7f496204e290>,\n",
       "  <matplotlib.lines.Line2D at 0x7f496204f370>,\n",
       "  <matplotlib.lines.Line2D at 0x7f496204f640>,\n",
       "  <matplotlib.lines.Line2D at 0x7f4961e84760>,\n",
       "  <matplotlib.lines.Line2D at 0x7f4961e84a30>,\n",
       "  <matplotlib.lines.Line2D at 0x7f4961e85b10>,\n",
       "  <matplotlib.lines.Line2D at 0x7f4961e85de0>,\n",
       "  <matplotlib.lines.Line2D at 0x7f4961e86ec0>,\n",
       "  <matplotlib.lines.Line2D at 0x7f4961e87190>],\n",
       " 'caps': [<matplotlib.lines.Line2D at 0x7f4962015660>,\n",
       "  <matplotlib.lines.Line2D at 0x7f4962015930>,\n",
       "  <matplotlib.lines.Line2D at 0x7f4962016a10>,\n",
       "  <matplotlib.lines.Line2D at 0x7f4962016ce0>,\n",
       "  <matplotlib.lines.Line2D at 0x7f4962017dc0>,\n",
       "  <matplotlib.lines.Line2D at 0x7f496204c0d0>,\n",
       "  <matplotlib.lines.Line2D at 0x7f496204d1b0>,\n",
       "  <matplotlib.lines.Line2D at 0x7f496204d480>,\n",
       "  <matplotlib.lines.Line2D at 0x7f496204e560>,\n",
       "  <matplotlib.lines.Line2D at 0x7f496204e830>,\n",
       "  <matplotlib.lines.Line2D at 0x7f496204f910>,\n",
       "  <matplotlib.lines.Line2D at 0x7f496204fbe0>,\n",
       "  <matplotlib.lines.Line2D at 0x7f4961e84d00>,\n",
       "  <matplotlib.lines.Line2D at 0x7f4961e84fd0>,\n",
       "  <matplotlib.lines.Line2D at 0x7f4961e860b0>,\n",
       "  <matplotlib.lines.Line2D at 0x7f4961e86380>,\n",
       "  <matplotlib.lines.Line2D at 0x7f4961e87460>,\n",
       "  <matplotlib.lines.Line2D at 0x7f4961e87730>],\n",
       " 'boxes': [<matplotlib.lines.Line2D at 0x7f4962014df0>,\n",
       "  <matplotlib.lines.Line2D at 0x7f49620161a0>,\n",
       "  <matplotlib.lines.Line2D at 0x7f4962017550>,\n",
       "  <matplotlib.lines.Line2D at 0x7f496204c940>,\n",
       "  <matplotlib.lines.Line2D at 0x7f496204dcf0>,\n",
       "  <matplotlib.lines.Line2D at 0x7f496204f0a0>,\n",
       "  <matplotlib.lines.Line2D at 0x7f4961e84490>,\n",
       "  <matplotlib.lines.Line2D at 0x7f4961e85840>,\n",
       "  <matplotlib.lines.Line2D at 0x7f4961e86bf0>],\n",
       " 'medians': [<matplotlib.lines.Line2D at 0x7f4962015c00>,\n",
       "  <matplotlib.lines.Line2D at 0x7f4962016fb0>,\n",
       "  <matplotlib.lines.Line2D at 0x7f496204c3a0>,\n",
       "  <matplotlib.lines.Line2D at 0x7f496204d750>,\n",
       "  <matplotlib.lines.Line2D at 0x7f496204eb00>,\n",
       "  <matplotlib.lines.Line2D at 0x7f496204feb0>,\n",
       "  <matplotlib.lines.Line2D at 0x7f4961e852a0>,\n",
       "  <matplotlib.lines.Line2D at 0x7f4961e86650>,\n",
       "  <matplotlib.lines.Line2D at 0x7f4961e87a00>],\n",
       " 'fliers': [<matplotlib.lines.Line2D at 0x7f4962015ed0>,\n",
       "  <matplotlib.lines.Line2D at 0x7f4962017280>,\n",
       "  <matplotlib.lines.Line2D at 0x7f496204c670>,\n",
       "  <matplotlib.lines.Line2D at 0x7f496204da20>,\n",
       "  <matplotlib.lines.Line2D at 0x7f496204edd0>,\n",
       "  <matplotlib.lines.Line2D at 0x7f4961e841c0>,\n",
       "  <matplotlib.lines.Line2D at 0x7f4961e85570>,\n",
       "  <matplotlib.lines.Line2D at 0x7f4961e86920>,\n",
       "  <matplotlib.lines.Line2D at 0x7f4961e87cd0>],\n",
       " 'means': []}"
      ]
     },
     "execution_count": 73,
     "metadata": {},
     "output_type": "execute_result"
    },
    {
     "data": {
      "image/png": "[encoded data removed]",
      "text/plain": [
       "<Figure size 640x480 with 1 Axes>"
      ]
     },
     "metadata": {},
     "output_type": "display_data"
    }
   ],
   "source": [
    "# Verificando outliers\n",
    "\n",
    "import matplotlib.pyplot as plt\n",
    "\n",
    "plt.boxplot(df)"
   ]
  },
  {
   "cell_type": "code",
   "execution_count": 74,
   "id": "24319598",
   "metadata": {},
   "outputs": [],
   "source": [
    "# Removendo outliers\n",
    "\n",
    "import numpy as np\n",
    "\n",
    "for column in df.columns:\n",
    "    # Pegando o primeiro e terceiro quantil\n",
    "    x = np.quantile(df[column], [0.25, 0.75])\n",
    "    \n",
    "    # Calculando IQR\n",
    "    iqr = x[1] - x[0]\n",
    "    \n",
    "    # Definindo os limites superior e inferior\n",
    "    upper_bound = x[1] + 1.5*iqr\n",
    "    lower_bound = x[0] - 1.5*iqr\n",
    "    \n",
    "    # Removendo os outliers\n",
    "    df[column]  = np.where(df[column] > upper_bound, upper_bound,\n",
    "                           (np.where(df[column] < lower_bound, lower_bound, df[column])))"
   ]
  },
  {
   "cell_type": "code",
   "execution_count": 75,
   "id": "c6cf6832",
   "metadata": {},
   "outputs": [
    {
     "data": {
      "text/plain": [
       "{'whiskers': [<matplotlib.lines.Line2D at 0x7f4961f03790>,\n",
       "  <matplotlib.lines.Line2D at 0x7f4961f03a60>,\n",
       "  <matplotlib.lines.Line2D at 0x7f4961f2cb80>,\n",
       "  <matplotlib.lines.Line2D at 0x7f4961f2ce50>,\n",
       "  <matplotlib.lines.Line2D at 0x7f4961f2df30>,\n",
       "  <matplotlib.lines.Line2D at 0x7f4961f2e200>,\n",
       "  <matplotlib.lines.Line2D at 0x7f4961f2f2e0>,\n",
       "  <matplotlib.lines.Line2D at 0x7f4961f2f5b0>,\n",
       "  <matplotlib.lines.Line2D at 0x7f4961f6c6d0>,\n",
       "  <matplotlib.lines.Line2D at 0x7f4961f6c9a0>,\n",
       "  <matplotlib.lines.Line2D at 0x7f4961f6da80>,\n",
       "  <matplotlib.lines.Line2D at 0x7f4961f6dd50>,\n",
       "  <matplotlib.lines.Line2D at 0x7f4961f6ee30>,\n",
       "  <matplotlib.lines.Line2D at 0x7f4961f6f100>,\n",
       "  <matplotlib.lines.Line2D at 0x7f4961d98220>,\n",
       "  <matplotlib.lines.Line2D at 0x7f4961d984f0>,\n",
       "  <matplotlib.lines.Line2D at 0x7f4961d995d0>,\n",
       "  <matplotlib.lines.Line2D at 0x7f4961d998a0>],\n",
       " 'caps': [<matplotlib.lines.Line2D at 0x7f4961f03d30>,\n",
       "  <matplotlib.lines.Line2D at 0x7f4961f2c040>,\n",
       "  <matplotlib.lines.Line2D at 0x7f4961f2d120>,\n",
       "  <matplotlib.lines.Line2D at 0x7f4961f2d3f0>,\n",
       "  <matplotlib.lines.Line2D at 0x7f4961f2e4d0>,\n",
       "  <matplotlib.lines.Line2D at 0x7f4961f2e7a0>,\n",
       "  <matplotlib.lines.Line2D at 0x7f4961f2f880>,\n",
       "  <matplotlib.lines.Line2D at 0x7f4961f2fb50>,\n",
       "  <matplotlib.lines.Line2D at 0x7f4961f6cc70>,\n",
       "  <matplotlib.lines.Line2D at 0x7f4961f6cf40>,\n",
       "  <matplotlib.lines.Line2D at 0x7f4961f6e020>,\n",
       "  <matplotlib.lines.Line2D at 0x7f4961f6e2f0>,\n",
       "  <matplotlib.lines.Line2D at 0x7f4961f6f3d0>,\n",
       "  <matplotlib.lines.Line2D at 0x7f4961f6f6a0>,\n",
       "  <matplotlib.lines.Line2D at 0x7f4961d987c0>,\n",
       "  <matplotlib.lines.Line2D at 0x7f4961d98a90>,\n",
       "  <matplotlib.lines.Line2D at 0x7f4961d99b70>,\n",
       "  <matplotlib.lines.Line2D at 0x7f4961d99e40>],\n",
       " 'boxes': [<matplotlib.lines.Line2D at 0x7f4961f035e0>,\n",
       "  <matplotlib.lines.Line2D at 0x7f4961f2c8b0>,\n",
       "  <matplotlib.lines.Line2D at 0x7f4961f2dc60>,\n",
       "  <matplotlib.lines.Line2D at 0x7f4961f2f010>,\n",
       "  <matplotlib.lines.Line2D at 0x7f4961f6c400>,\n",
       "  <matplotlib.lines.Line2D at 0x7f4961f6d7b0>,\n",
       "  <matplotlib.lines.Line2D at 0x7f4961f6eb60>,\n",
       "  <matplotlib.lines.Line2D at 0x7f4961f6ff10>,\n",
       "  <matplotlib.lines.Line2D at 0x7f4961d99300>],\n",
       " 'medians': [<matplotlib.lines.Line2D at 0x7f4961f2c310>,\n",
       "  <matplotlib.lines.Line2D at 0x7f4961f2d6c0>,\n",
       "  <matplotlib.lines.Line2D at 0x7f4961f2ea70>,\n",
       "  <matplotlib.lines.Line2D at 0x7f4961f2fe20>,\n",
       "  <matplotlib.lines.Line2D at 0x7f4961f6d210>,\n",
       "  <matplotlib.lines.Line2D at 0x7f4961f6e5c0>,\n",
       "  <matplotlib.lines.Line2D at 0x7f4961f6f970>,\n",
       "  <matplotlib.lines.Line2D at 0x7f4961d98d60>,\n",
       "  <matplotlib.lines.Line2D at 0x7f4961d9a110>],\n",
       " 'fliers': [<matplotlib.lines.Line2D at 0x7f4961f2c5e0>,\n",
       "  <matplotlib.lines.Line2D at 0x7f4961f2d990>,\n",
       "  <matplotlib.lines.Line2D at 0x7f4961f2ed40>,\n",
       "  <matplotlib.lines.Line2D at 0x7f4961f6c130>,\n",
       "  <matplotlib.lines.Line2D at 0x7f4961f6d4e0>,\n",
       "  <matplotlib.lines.Line2D at 0x7f4961f6e890>,\n",
       "  <matplotlib.lines.Line2D at 0x7f4961f6fc40>,\n",
       "  <matplotlib.lines.Line2D at 0x7f4961d99030>,\n",
       "  <matplotlib.lines.Line2D at 0x7f4961d9a3e0>],\n",
       " 'means': []}"
      ]
     },
     "execution_count": 75,
     "metadata": {},
     "output_type": "execute_result"
    },
    {
     "data": {
      "image/png": "[encoded data removed]",
      "text/plain": [
       "<Figure size 640x480 with 1 Axes>"
      ]
     },
     "metadata": {},
     "output_type": "display_data"
    }
   ],
   "source": [
    "plt.boxplot(df)"
   ]
  },
  {
   "cell_type": "code",
   "execution_count": 76,
   "id": "f7bc5119",
   "metadata": {},
   "outputs": [
    {
     "data": {
      "text/plain": [
       "<AxesSubplot:xlabel='Outcome', ylabel='Count'>"
      ]
     },
     "execution_count": 76,
     "metadata": {},
     "output_type": "execute_result"
    },
    {
     "data": {
      "image/png": "[encoded data removed]",
      "text/plain": [
       "<Figure size 640x480 with 1 Axes>"
      ]
     },
     "metadata": {},
     "output_type": "display_data"
    }
   ],
   "source": [
    "#Histograma do target\n",
    "import seaborn as sns\n",
    "\n",
    "sns.histplot(df, x=\"Outcome\")"
   ]
  },
  {
   "cell_type": "code",
   "execution_count": 77,
   "id": "317e22f4",
   "metadata": {},
   "outputs": [
    {
     "data": {
      "text/plain": [
       "<AxesSubplot:title={'center':'count (target)'}>"
      ]
     },
     "execution_count": 77,
     "metadata": {},
     "output_type": "execute_result"
    },
    {
     "data": {
      "image/png": "[encoded data removed]",
      "text/plain": [
       "<Figure size 640x480 with 1 Axes>"
      ]
     },
     "metadata": {},
     "output_type": "display_data"
    }
   ],
   "source": [
    "# Contando as classes\n",
    "class_count_0, class_count_1 = df['Outcome'].value_counts()\n",
    "\n",
    "# Separando as classes\n",
    "class_0 = df[df['Outcome'] == 0]\n",
    "class_1 = df[df['Outcome'] == 1]# print the shape of the class\n",
    "\n",
    "# Pegando amostras aleatórias da classe 1\n",
    "class_1_over = class_1.sample(class_count_0, replace=True, random_state=42)\n",
    "\n",
    "# Remodelando o dataset\n",
    "df = pd.concat([class_1_over, class_0], axis=0)\n",
    "\n",
    "df['Outcome'].value_counts().plot(kind='bar', title='count (target)')"
   ]
  },
  {
   "cell_type": "markdown",
   "id": "2ffad304",
   "metadata": {},
   "source": [
    "Aqui, decidimos rebalancear os dados inserindo dados aleatórios da classe 1. Isso pode acabar acarretando em overfitting, mas como estamos falando de um dataset com poucos dados imaginei que essa seria a melhor abordagem."
   ]
  },
  {
   "cell_type": "code",
   "execution_count": 78,
   "id": "5c086412",
   "metadata": {},
   "outputs": [
    {
     "data": {
      "text/html": [
       "<style>#sk-container-id-7 {color: black;background-color: white;}#sk-container-id-7 pre{padding: 0;}#sk-container-id-7 div.sk-toggleable {background-color: white;}#sk-container-id-7 label.sk-toggleable__label {cursor: pointer;display: block;width: 100%;margin-bottom: 0;padding: 0.3em;box-sizing: border-box;text-align: center;}#sk-container-id-7 label.sk-toggleable__label-arrow:before {content: \"▸\";float: left;margin-right: 0.25em;color: #696969;}#sk-container-id-7 label.sk-toggleable__label-arrow:hover:before {color: black;}#sk-container-id-7 div.sk-estimator:hover label.sk-toggleable__label-arrow:before {color: black;}#sk-container-id-7 div.sk-toggleable__content {max-height: 0;max-width: 0;overflow: hidden;text-align: left;background-color: #f0f8ff;}#sk-container-id-7 div.sk-toggleable__content pre {margin: 0.2em;color: black;border-radius: 0.25em;background-color: #f0f8ff;}#sk-container-id-7 input.sk-toggleable__control:checked~div.sk-toggleable__content {max-height: 200px;max-width: 100%;overflow: auto;}#sk-container-id-7 input.sk-toggleable__control:checked~label.sk-toggleable__label-arrow:before {content: \"▾\";}#sk-container-id-7 div.sk-estimator input.sk-toggleable__control:checked~label.sk-toggleable__label {background-color: #d4ebff;}#sk-container-id-7 div.sk-label input.sk-toggleable__control:checked~label.sk-toggleable__label {background-color: #d4ebff;}#sk-container-id-7 input.sk-hidden--visually {border: 0;clip: rect(1px 1px 1px 1px);clip: rect(1px, 1px, 1px, 1px);height: 1px;margin: -1px;overflow: hidden;padding: 0;position: absolute;width: 1px;}#sk-container-id-7 div.sk-estimator {font-family: monospace;background-color: #f0f8ff;border: 1px dotted black;border-radius: 0.25em;box-sizing: border-box;margin-bottom: 0.5em;}#sk-container-id-7 div.sk-estimator:hover {background-color: #d4ebff;}#sk-container-id-7 div.sk-parallel-item::after {content: \"\";width: 100%;border-bottom: 1px solid gray;flex-grow: 1;}#sk-container-id-7 div.sk-label:hover label.sk-toggleable__label {background-color: #d4ebff;}#sk-container-id-7 div.sk-serial::before {content: \"\";position: absolute;border-left: 1px solid gray;box-sizing: border-box;top: 0;bottom: 0;left: 50%;z-index: 0;}#sk-container-id-7 div.sk-serial {display: flex;flex-direction: column;align-items: center;background-color: white;padding-right: 0.2em;padding-left: 0.2em;position: relative;}#sk-container-id-7 div.sk-item {position: relative;z-index: 1;}#sk-container-id-7 div.sk-parallel {display: flex;align-items: stretch;justify-content: center;background-color: white;position: relative;}#sk-container-id-7 div.sk-item::before, #sk-container-id-7 div.sk-parallel-item::before {content: \"\";position: absolute;border-left: 1px solid gray;box-sizing: border-box;top: 0;bottom: 0;left: 50%;z-index: -1;}#sk-container-id-7 div.sk-parallel-item {display: flex;flex-direction: column;z-index: 1;position: relative;background-color: white;}#sk-container-id-7 div.sk-parallel-item:first-child::after {align-self: flex-end;width: 50%;}#sk-container-id-7 div.sk-parallel-item:last-child::after {align-self: flex-start;width: 50%;}#sk-container-id-7 div.sk-parallel-item:only-child::after {width: 0;}#sk-container-id-7 div.sk-dashed-wrapped {border: 1px dashed gray;margin: 0 0.4em 0.5em 0.4em;box-sizing: border-box;padding-bottom: 0.4em;background-color: white;}#sk-container-id-7 div.sk-label label {font-family: monospace;font-weight: bold;display: inline-block;line-height: 1.2em;}#sk-container-id-7 div.sk-label-container {text-align: center;}#sk-container-id-7 div.sk-container {/* jupyter's `normalize.less` sets `[hidden] { display: none; }` but bootstrap.min.css set `[hidden] { display: none !important; }` so we also need the `!important` here to be able to override the default hidden behavior on the sphinx rendered scikit-learn.org. See: https://github.com/scikit-learn/scikit-learn/issues/21755 */display: inline-block !important;position: relative;}#sk-container-id-7 div.sk-text-repr-fallback {display: none;}</style><div id=\"sk-container-id-7\" class=\"sk-top-container\"><div class=\"sk-text-repr-fallback\"><pre>Pipeline(steps=[(&#x27;standardscaler&#x27;, StandardScaler()),\n",
       "                (&#x27;logisticregression&#x27;, LogisticRegression())])</pre><b>In a Jupyter environment, please rerun this cell to show the HTML representation or trust the notebook. <br />On GitHub, the HTML representation is unable to render, please try loading this page with nbviewer.org.</b></div><div class=\"sk-container\" hidden><div class=\"sk-item sk-dashed-wrapped\"><div class=\"sk-label-container\"><div class=\"sk-label sk-toggleable\"><input class=\"sk-toggleable__control sk-hidden--visually\" id=\"sk-estimator-id-19\" type=\"checkbox\" ><label for=\"sk-estimator-id-19\" class=\"sk-toggleable__label sk-toggleable__label-arrow\">Pipeline</label><div class=\"sk-toggleable__content\"><pre>Pipeline(steps=[(&#x27;standardscaler&#x27;, StandardScaler()),\n",
       "                (&#x27;logisticregression&#x27;, LogisticRegression())])</pre></div></div></div><div class=\"sk-serial\"><div class=\"sk-item\"><div class=\"sk-estimator sk-toggleable\"><input class=\"sk-toggleable__control sk-hidden--visually\" id=\"sk-estimator-id-20\" type=\"checkbox\" ><label for=\"sk-estimator-id-20\" class=\"sk-toggleable__label sk-toggleable__label-arrow\">StandardScaler</label><div class=\"sk-toggleable__content\"><pre>StandardScaler()</pre></div></div></div><div class=\"sk-item\"><div class=\"sk-estimator sk-toggleable\"><input class=\"sk-toggleable__control sk-hidden--visually\" id=\"sk-estimator-id-21\" type=\"checkbox\" ><label for=\"sk-estimator-id-21\" class=\"sk-toggleable__label sk-toggleable__label-arrow\">LogisticRegression</label><div class=\"sk-toggleable__content\"><pre>LogisticRegression()</pre></div></div></div></div></div></div></div>"
      ],
      "text/plain": [
       "Pipeline(steps=[('standardscaler', StandardScaler()),\n",
       "                ('logisticregression', LogisticRegression())])"
      ]
     },
     "execution_count": 78,
     "metadata": {},
     "output_type": "execute_result"
    }
   ],
   "source": [
    "#Definindo X e y\n",
    "X = df.drop(columns='Outcome')\n",
    "y = df['Outcome']\n",
    "\n",
    "from sklearn.model_selection import train_test_split\n",
    "from sklearn.linear_model import LogisticRegression\n",
    "from sklearn.pipeline import make_pipeline\n",
    "from sklearn.preprocessing import StandardScaler\n",
    "\n",
    "# Separando os dados\n",
    "X_train, X_test, y_train, y_test = train_test_split(X, y, test_size=0.3, random_state=42)\n",
    "\n",
    "# Instanciando o modelo com uma pipeline para escalonamento dos dados devido a baixa quantidade\n",
    "# de dados\n",
    "model = make_pipeline(StandardScaler(), LogisticRegression())\n",
    "\n",
    "# Treinando o modelo\n",
    "model.fit(X_train, y_train)"
   ]
  },
  {
   "cell_type": "markdown",
   "id": "4faba0fb",
   "metadata": {},
   "source": [
    "2. Após ter treinado o modelo, realize a sua avaliação com as ferramentas que foram apresentadas nas aulas."
   ]
  },
  {
   "cell_type": "code",
   "execution_count": 79,
   "id": "cb11549d",
   "metadata": {},
   "outputs": [
    {
     "data": {
      "text/plain": [
       "0.7533333333333333"
      ]
     },
     "execution_count": 79,
     "metadata": {},
     "output_type": "execute_result"
    }
   ],
   "source": [
    "model.score(X_test, y_test)"
   ]
  },
  {
   "cell_type": "code",
   "execution_count": 80,
   "id": "aaa24742",
   "metadata": {},
   "outputs": [
    {
     "data": {
      "text/plain": [
       "<sklearn.metrics._plot.confusion_matrix.ConfusionMatrixDisplay at 0x7f4961eba980>"
      ]
     },
     "execution_count": 80,
     "metadata": {},
     "output_type": "execute_result"
    },
    {
     "data": {
      "image/png": "[encoded data removed]",
      "text/plain": [
       "<Figure size 640x480 with 2 Axes>"
      ]
     },
     "metadata": {},
     "output_type": "display_data"
    }
   ],
   "source": [
    "from sklearn.metrics import classification_report, ConfusionMatrixDisplay, PrecisionRecallDisplay\n",
    "\n",
    "y_predict = model.predict(X_test)\n",
    "\n",
    "ConfusionMatrixDisplay.from_predictions(y_test,y_predict)"
   ]
  },
  {
   "cell_type": "code",
   "execution_count": 81,
   "id": "dcc1570c",
   "metadata": {},
   "outputs": [
    {
     "name": "stdout",
     "output_type": "stream",
     "text": [
      "              precision    recall  f1-score   support\n",
      "\n",
      "         0.0       0.74      0.78      0.76       150\n",
      "         1.0       0.77      0.73      0.75       150\n",
      "\n",
      "    accuracy                           0.75       300\n",
      "   macro avg       0.75      0.75      0.75       300\n",
      "weighted avg       0.75      0.75      0.75       300\n",
      "\n"
     ]
    },
    {
     "data": {
      "image/png": "[encoded data removed]",
      "text/plain": [
       "<Figure size 640x480 with 1 Axes>"
      ]
     },
     "metadata": {},
     "output_type": "display_data"
    }
   ],
   "source": [
    "PrecisionRecallDisplay.from_estimator(model, X_test, y_test)\n",
    "\n",
    "print(classification_report(y_test, y_predict))"
   ]
  },
  {
   "cell_type": "markdown",
   "id": "c830df85",
   "metadata": {},
   "source": [
    "3. O cutoff default (0.5) retorna a maior acurácia? Qual é o cutoff que retorna o mesmo valor para o precision e o recall? Qual é esse valor?"
   ]
  },
  {
   "cell_type": "code",
   "execution_count": 82,
   "id": "72608d6a",
   "metadata": {},
   "outputs": [
    {
     "data": {
      "text/html": [
       "<div>\n",
       "<style scoped>\n",
       "    .dataframe tbody tr th:only-of-type {\n",
       "        vertical-align: middle;\n",
       "    }\n",
       "\n",
       "    .dataframe tbody tr th {\n",
       "        vertical-align: top;\n",
       "    }\n",
       "\n",
       "    .dataframe thead th {\n",
       "        text-align: right;\n",
       "    }\n",
       "</style>\n",
       "<table border=\"1\" class=\"dataframe\">\n",
       "  <thead>\n",
       "    <tr style=\"text-align: right;\">\n",
       "      <th></th>\n",
       "      <th>precisions</th>\n",
       "      <th>recalls</th>\n",
       "      <th>thresholds</th>\n",
       "    </tr>\n",
       "  </thead>\n",
       "  <tbody>\n",
       "    <tr>\n",
       "      <th>0</th>\n",
       "      <td>0.500000</td>\n",
       "      <td>1.000000</td>\n",
       "      <td>0.015748</td>\n",
       "    </tr>\n",
       "    <tr>\n",
       "      <th>1</th>\n",
       "      <td>0.501672</td>\n",
       "      <td>1.000000</td>\n",
       "      <td>0.024001</td>\n",
       "    </tr>\n",
       "    <tr>\n",
       "      <th>2</th>\n",
       "      <td>0.503356</td>\n",
       "      <td>1.000000</td>\n",
       "      <td>0.032193</td>\n",
       "    </tr>\n",
       "    <tr>\n",
       "      <th>3</th>\n",
       "      <td>0.505051</td>\n",
       "      <td>1.000000</td>\n",
       "      <td>0.045922</td>\n",
       "    </tr>\n",
       "    <tr>\n",
       "      <th>4</th>\n",
       "      <td>0.506757</td>\n",
       "      <td>1.000000</td>\n",
       "      <td>0.049776</td>\n",
       "    </tr>\n",
       "    <tr>\n",
       "      <th>...</th>\n",
       "      <td>...</td>\n",
       "      <td>...</td>\n",
       "      <td>...</td>\n",
       "    </tr>\n",
       "    <tr>\n",
       "      <th>248</th>\n",
       "      <td>1.000000</td>\n",
       "      <td>0.046667</td>\n",
       "      <td>0.945573</td>\n",
       "    </tr>\n",
       "    <tr>\n",
       "      <th>249</th>\n",
       "      <td>1.000000</td>\n",
       "      <td>0.033333</td>\n",
       "      <td>0.949978</td>\n",
       "    </tr>\n",
       "    <tr>\n",
       "      <th>250</th>\n",
       "      <td>1.000000</td>\n",
       "      <td>0.026667</td>\n",
       "      <td>0.955468</td>\n",
       "    </tr>\n",
       "    <tr>\n",
       "      <th>251</th>\n",
       "      <td>1.000000</td>\n",
       "      <td>0.013333</td>\n",
       "      <td>0.965488</td>\n",
       "    </tr>\n",
       "    <tr>\n",
       "      <th>252</th>\n",
       "      <td>1.000000</td>\n",
       "      <td>0.006667</td>\n",
       "      <td>0.968385</td>\n",
       "    </tr>\n",
       "  </tbody>\n",
       "</table>\n",
       "<p>253 rows × 3 columns</p>\n",
       "</div>"
      ],
      "text/plain": [
       "     precisions   recalls  thresholds\n",
       "0      0.500000  1.000000    0.015748\n",
       "1      0.501672  1.000000    0.024001\n",
       "2      0.503356  1.000000    0.032193\n",
       "3      0.505051  1.000000    0.045922\n",
       "4      0.506757  1.000000    0.049776\n",
       "..          ...       ...         ...\n",
       "248    1.000000  0.046667    0.945573\n",
       "249    1.000000  0.033333    0.949978\n",
       "250    1.000000  0.026667    0.955468\n",
       "251    1.000000  0.013333    0.965488\n",
       "252    1.000000  0.006667    0.968385\n",
       "\n",
       "[253 rows x 3 columns]"
      ]
     },
     "execution_count": 82,
     "metadata": {},
     "output_type": "execute_result"
    }
   ],
   "source": [
    "from sklearn.metrics import precision_recall_curve\n",
    "\n",
    "y_proba_1 = model.predict_proba(X_test)[:, 1]\n",
    "\n",
    "# Obtendo as diferentes precisões e revocações\n",
    "precisions, recalls, thresholds = precision_recall_curve(y_test, y_proba_1)\n",
    "\n",
    "# Inserindo os dados em um dataframe\n",
    "precisions_recalls = pd.DataFrame(data={'precisions':precisions[:-1], \n",
    "                                        'recalls':recalls[:-1], 'thresholds':thresholds})\n",
    "\n",
    "precisions_recalls"
   ]
  },
  {
   "cell_type": "code",
   "execution_count": 83,
   "id": "843e962e",
   "metadata": {},
   "outputs": [
    {
     "data": {
      "text/html": [
       "<div>\n",
       "<style scoped>\n",
       "    .dataframe tbody tr th:only-of-type {\n",
       "        vertical-align: middle;\n",
       "    }\n",
       "\n",
       "    .dataframe tbody tr th {\n",
       "        vertical-align: top;\n",
       "    }\n",
       "\n",
       "    .dataframe thead th {\n",
       "        text-align: right;\n",
       "    }\n",
       "</style>\n",
       "<table border=\"1\" class=\"dataframe\">\n",
       "  <thead>\n",
       "    <tr style=\"text-align: right;\">\n",
       "      <th></th>\n",
       "      <th>precisions</th>\n",
       "      <th>recalls</th>\n",
       "      <th>thresholds</th>\n",
       "    </tr>\n",
       "  </thead>\n",
       "  <tbody>\n",
       "    <tr>\n",
       "      <th>153</th>\n",
       "      <td>0.804511</td>\n",
       "      <td>0.713333</td>\n",
       "      <td>0.527768</td>\n",
       "    </tr>\n",
       "    <tr>\n",
       "      <th>154</th>\n",
       "      <td>0.801527</td>\n",
       "      <td>0.700000</td>\n",
       "      <td>0.530162</td>\n",
       "    </tr>\n",
       "    <tr>\n",
       "      <th>164</th>\n",
       "      <td>0.800000</td>\n",
       "      <td>0.640000</td>\n",
       "      <td>0.565318</td>\n",
       "    </tr>\n",
       "    <tr>\n",
       "      <th>165</th>\n",
       "      <td>0.806723</td>\n",
       "      <td>0.640000</td>\n",
       "      <td>0.569213</td>\n",
       "    </tr>\n",
       "    <tr>\n",
       "      <th>166</th>\n",
       "      <td>0.805085</td>\n",
       "      <td>0.633333</td>\n",
       "      <td>0.572225</td>\n",
       "    </tr>\n",
       "    <tr>\n",
       "      <th>...</th>\n",
       "      <td>...</td>\n",
       "      <td>...</td>\n",
       "      <td>...</td>\n",
       "    </tr>\n",
       "    <tr>\n",
       "      <th>248</th>\n",
       "      <td>1.000000</td>\n",
       "      <td>0.046667</td>\n",
       "      <td>0.945573</td>\n",
       "    </tr>\n",
       "    <tr>\n",
       "      <th>249</th>\n",
       "      <td>1.000000</td>\n",
       "      <td>0.033333</td>\n",
       "      <td>0.949978</td>\n",
       "    </tr>\n",
       "    <tr>\n",
       "      <th>250</th>\n",
       "      <td>1.000000</td>\n",
       "      <td>0.026667</td>\n",
       "      <td>0.955468</td>\n",
       "    </tr>\n",
       "    <tr>\n",
       "      <th>251</th>\n",
       "      <td>1.000000</td>\n",
       "      <td>0.013333</td>\n",
       "      <td>0.965488</td>\n",
       "    </tr>\n",
       "    <tr>\n",
       "      <th>252</th>\n",
       "      <td>1.000000</td>\n",
       "      <td>0.006667</td>\n",
       "      <td>0.968385</td>\n",
       "    </tr>\n",
       "  </tbody>\n",
       "</table>\n",
       "<p>91 rows × 3 columns</p>\n",
       "</div>"
      ],
      "text/plain": [
       "     precisions   recalls  thresholds\n",
       "153    0.804511  0.713333    0.527768\n",
       "154    0.801527  0.700000    0.530162\n",
       "164    0.800000  0.640000    0.565318\n",
       "165    0.806723  0.640000    0.569213\n",
       "166    0.805085  0.633333    0.572225\n",
       "..          ...       ...         ...\n",
       "248    1.000000  0.046667    0.945573\n",
       "249    1.000000  0.033333    0.949978\n",
       "250    1.000000  0.026667    0.955468\n",
       "251    1.000000  0.013333    0.965488\n",
       "252    1.000000  0.006667    0.968385\n",
       "\n",
       "[91 rows x 3 columns]"
      ]
     },
     "execution_count": 83,
     "metadata": {},
     "output_type": "execute_result"
    }
   ],
   "source": [
    "precisions_recalls[precisions_recalls['precisions']>=0.8]"
   ]
  },
  {
   "cell_type": "code",
   "execution_count": 84,
   "id": "ef16178e",
   "metadata": {},
   "outputs": [
    {
     "name": "stdout",
     "output_type": "stream",
     "text": [
      "Maior acurácia: 0.7833333333333333\n",
      "CutOff da respectiva acurácia: 0.4549391071736502\n"
     ]
    }
   ],
   "source": [
    "from sklearn.metrics import accuracy_score\n",
    "from sklearn.metrics import roc_curve\n",
    "\n",
    "_, _, thresholds = roc_curve(y_test, y_proba_1)\n",
    "accuracy_scores = []\n",
    "for thresh in thresholds:\n",
    "    accuracy_scores.append(accuracy_score(y_test, [prob > thresh for prob in y_proba_1]))\n",
    "\n",
    "accuracies = np.array(accuracy_scores)\n",
    "max_accuracy = accuracies.max() \n",
    "max_accuracy_threshold =  thresholds[accuracies.argmax()]\n",
    "\n",
    "print(\"Maior acurácia:\", max_accuracy)\n",
    "print(\"CutOff da respectiva acurácia:\", max_accuracy_threshold)"
   ]
  },
  {
   "cell_type": "code",
   "execution_count": 85,
   "id": "0edb1aa2",
   "metadata": {},
   "outputs": [
    {
     "data": {
      "text/html": [
       "<div>\n",
       "<style scoped>\n",
       "    .dataframe tbody tr th:only-of-type {\n",
       "        vertical-align: middle;\n",
       "    }\n",
       "\n",
       "    .dataframe tbody tr th {\n",
       "        vertical-align: top;\n",
       "    }\n",
       "\n",
       "    .dataframe thead th {\n",
       "        text-align: right;\n",
       "    }\n",
       "</style>\n",
       "<table border=\"1\" class=\"dataframe\">\n",
       "  <thead>\n",
       "    <tr style=\"text-align: right;\">\n",
       "      <th></th>\n",
       "      <th>Precision</th>\n",
       "      <th>Recall</th>\n",
       "      <th>CufOff</th>\n",
       "    </tr>\n",
       "  </thead>\n",
       "  <tbody>\n",
       "    <tr>\n",
       "      <th>137</th>\n",
       "      <td>0.753333</td>\n",
       "      <td>0.753333</td>\n",
       "      <td>0.475899</td>\n",
       "    </tr>\n",
       "  </tbody>\n",
       "</table>\n",
       "</div>"
      ],
      "text/plain": [
       "     Precision    Recall    CufOff\n",
       "137   0.753333  0.753333  0.475899"
      ]
     },
     "execution_count": 85,
     "metadata": {},
     "output_type": "execute_result"
    }
   ],
   "source": [
    "# CutOff que retorna a mesma precisão e mesma revocação\n",
    "\n",
    "precision_recall = precisions_recalls[precisions_recalls['precisions']==precisions_recalls['recalls']]\n",
    "precision_recall.rename(columns={'precisions': 'Precision', 'recalls': 'Recall', 'thresholds': 'CufOff'})"
   ]
  },
  {
   "cell_type": "markdown",
   "id": "21c8c6d1",
   "metadata": {},
   "source": [
    "4. Crie um modelo de Regressão logistica para o mesmo dataset utilizando polynomial features com degree=2. Avalie o modelo e compare com o resultado do modelo anterior."
   ]
  },
  {
   "cell_type": "code",
   "execution_count": 86,
   "id": "4ac40dfd",
   "metadata": {},
   "outputs": [
    {
     "data": {
      "text/html": [
       "<style>#sk-container-id-8 {color: black;background-color: white;}#sk-container-id-8 pre{padding: 0;}#sk-container-id-8 div.sk-toggleable {background-color: white;}#sk-container-id-8 label.sk-toggleable__label {cursor: pointer;display: block;width: 100%;margin-bottom: 0;padding: 0.3em;box-sizing: border-box;text-align: center;}#sk-container-id-8 label.sk-toggleable__label-arrow:before {content: \"▸\";float: left;margin-right: 0.25em;color: #696969;}#sk-container-id-8 label.sk-toggleable__label-arrow:hover:before {color: black;}#sk-container-id-8 div.sk-estimator:hover label.sk-toggleable__label-arrow:before {color: black;}#sk-container-id-8 div.sk-toggleable__content {max-height: 0;max-width: 0;overflow: hidden;text-align: left;background-color: #f0f8ff;}#sk-container-id-8 div.sk-toggleable__content pre {margin: 0.2em;color: black;border-radius: 0.25em;background-color: #f0f8ff;}#sk-container-id-8 input.sk-toggleable__control:checked~div.sk-toggleable__content {max-height: 200px;max-width: 100%;overflow: auto;}#sk-container-id-8 input.sk-toggleable__control:checked~label.sk-toggleable__label-arrow:before {content: \"▾\";}#sk-container-id-8 div.sk-estimator input.sk-toggleable__control:checked~label.sk-toggleable__label {background-color: #d4ebff;}#sk-container-id-8 div.sk-label input.sk-toggleable__control:checked~label.sk-toggleable__label {background-color: #d4ebff;}#sk-container-id-8 input.sk-hidden--visually {border: 0;clip: rect(1px 1px 1px 1px);clip: rect(1px, 1px, 1px, 1px);height: 1px;margin: -1px;overflow: hidden;padding: 0;position: absolute;width: 1px;}#sk-container-id-8 div.sk-estimator {font-family: monospace;background-color: #f0f8ff;border: 1px dotted black;border-radius: 0.25em;box-sizing: border-box;margin-bottom: 0.5em;}#sk-container-id-8 div.sk-estimator:hover {background-color: #d4ebff;}#sk-container-id-8 div.sk-parallel-item::after {content: \"\";width: 100%;border-bottom: 1px solid gray;flex-grow: 1;}#sk-container-id-8 div.sk-label:hover label.sk-toggleable__label {background-color: #d4ebff;}#sk-container-id-8 div.sk-serial::before {content: \"\";position: absolute;border-left: 1px solid gray;box-sizing: border-box;top: 0;bottom: 0;left: 50%;z-index: 0;}#sk-container-id-8 div.sk-serial {display: flex;flex-direction: column;align-items: center;background-color: white;padding-right: 0.2em;padding-left: 0.2em;position: relative;}#sk-container-id-8 div.sk-item {position: relative;z-index: 1;}#sk-container-id-8 div.sk-parallel {display: flex;align-items: stretch;justify-content: center;background-color: white;position: relative;}#sk-container-id-8 div.sk-item::before, #sk-container-id-8 div.sk-parallel-item::before {content: \"\";position: absolute;border-left: 1px solid gray;box-sizing: border-box;top: 0;bottom: 0;left: 50%;z-index: -1;}#sk-container-id-8 div.sk-parallel-item {display: flex;flex-direction: column;z-index: 1;position: relative;background-color: white;}#sk-container-id-8 div.sk-parallel-item:first-child::after {align-self: flex-end;width: 50%;}#sk-container-id-8 div.sk-parallel-item:last-child::after {align-self: flex-start;width: 50%;}#sk-container-id-8 div.sk-parallel-item:only-child::after {width: 0;}#sk-container-id-8 div.sk-dashed-wrapped {border: 1px dashed gray;margin: 0 0.4em 0.5em 0.4em;box-sizing: border-box;padding-bottom: 0.4em;background-color: white;}#sk-container-id-8 div.sk-label label {font-family: monospace;font-weight: bold;display: inline-block;line-height: 1.2em;}#sk-container-id-8 div.sk-label-container {text-align: center;}#sk-container-id-8 div.sk-container {/* jupyter's `normalize.less` sets `[hidden] { display: none; }` but bootstrap.min.css set `[hidden] { display: none !important; }` so we also need the `!important` here to be able to override the default hidden behavior on the sphinx rendered scikit-learn.org. See: https://github.com/scikit-learn/scikit-learn/issues/21755 */display: inline-block !important;position: relative;}#sk-container-id-8 div.sk-text-repr-fallback {display: none;}</style><div id=\"sk-container-id-8\" class=\"sk-top-container\"><div class=\"sk-text-repr-fallback\"><pre>Pipeline(steps=[(&#x27;standardscaler&#x27;, StandardScaler()),\n",
       "                (&#x27;logisticregression&#x27;, LogisticRegression())])</pre><b>In a Jupyter environment, please rerun this cell to show the HTML representation or trust the notebook. <br />On GitHub, the HTML representation is unable to render, please try loading this page with nbviewer.org.</b></div><div class=\"sk-container\" hidden><div class=\"sk-item sk-dashed-wrapped\"><div class=\"sk-label-container\"><div class=\"sk-label sk-toggleable\"><input class=\"sk-toggleable__control sk-hidden--visually\" id=\"sk-estimator-id-22\" type=\"checkbox\" ><label for=\"sk-estimator-id-22\" class=\"sk-toggleable__label sk-toggleable__label-arrow\">Pipeline</label><div class=\"sk-toggleable__content\"><pre>Pipeline(steps=[(&#x27;standardscaler&#x27;, StandardScaler()),\n",
       "                (&#x27;logisticregression&#x27;, LogisticRegression())])</pre></div></div></div><div class=\"sk-serial\"><div class=\"sk-item\"><div class=\"sk-estimator sk-toggleable\"><input class=\"sk-toggleable__control sk-hidden--visually\" id=\"sk-estimator-id-23\" type=\"checkbox\" ><label for=\"sk-estimator-id-23\" class=\"sk-toggleable__label sk-toggleable__label-arrow\">StandardScaler</label><div class=\"sk-toggleable__content\"><pre>StandardScaler()</pre></div></div></div><div class=\"sk-item\"><div class=\"sk-estimator sk-toggleable\"><input class=\"sk-toggleable__control sk-hidden--visually\" id=\"sk-estimator-id-24\" type=\"checkbox\" ><label for=\"sk-estimator-id-24\" class=\"sk-toggleable__label sk-toggleable__label-arrow\">LogisticRegression</label><div class=\"sk-toggleable__content\"><pre>LogisticRegression()</pre></div></div></div></div></div></div></div>"
      ],
      "text/plain": [
       "Pipeline(steps=[('standardscaler', StandardScaler()),\n",
       "                ('logisticregression', LogisticRegression())])"
      ]
     },
     "execution_count": 86,
     "metadata": {},
     "output_type": "execute_result"
    }
   ],
   "source": [
    "from sklearn.preprocessing import PolynomialFeatures\n",
    "\n",
    "# Instanciando os polinomios de gray 2\n",
    "pf = PolynomialFeatures(degree=2, include_bias=False)\n",
    "\n",
    "# Fazendo a adequação dos dados\n",
    "pf.fit(X_train)\n",
    "\n",
    "# Transformando os dados de treino e teste\n",
    "X_train_transf = pf.transform(X_train)\n",
    "X_test_transf = pf.transform(X_test)\n",
    "\n",
    "# Instanciando o modelo com a pipeline\n",
    "model_poly = make_pipeline(StandardScaler(), LogisticRegression())\n",
    "\n",
    "# Treinando o modelo\n",
    "model_poly.fit(X_train_transf, y_train)"
   ]
  },
  {
   "cell_type": "code",
   "execution_count": 87,
   "id": "3db02037",
   "metadata": {},
   "outputs": [
    {
     "data": {
      "text/plain": [
       "0.7433333333333333"
      ]
     },
     "execution_count": 87,
     "metadata": {},
     "output_type": "execute_result"
    }
   ],
   "source": [
    "model_poly.score(X_test_transf, y_test)"
   ]
  },
  {
   "cell_type": "code",
   "execution_count": 88,
   "id": "59248ab3",
   "metadata": {},
   "outputs": [
    {
     "data": {
      "text/plain": [
       "<sklearn.metrics._plot.confusion_matrix.ConfusionMatrixDisplay at 0x7f49625ca800>"
      ]
     },
     "execution_count": 88,
     "metadata": {},
     "output_type": "execute_result"
    },
    {
     "data": {
      "image/png": "[encoded data removed]",
      "text/plain": [
       "<Figure size 640x480 with 2 Axes>"
      ]
     },
     "metadata": {},
     "output_type": "display_data"
    }
   ],
   "source": [
    "from sklearn.metrics import classification_report, ConfusionMatrixDisplay, PrecisionRecallDisplay\n",
    "\n",
    "y_predict = model_poly.predict(X_test_transf)\n",
    "\n",
    "ConfusionMatrixDisplay.from_predictions(y_test,y_predict)"
   ]
  },
  {
   "cell_type": "code",
   "execution_count": 89,
   "id": "6dd75857",
   "metadata": {},
   "outputs": [
    {
     "name": "stdout",
     "output_type": "stream",
     "text": [
      "              precision    recall  f1-score   support\n",
      "\n",
      "         0.0       0.76      0.72      0.74       150\n",
      "         1.0       0.73      0.77      0.75       150\n",
      "\n",
      "    accuracy                           0.74       300\n",
      "   macro avg       0.74      0.74      0.74       300\n",
      "weighted avg       0.74      0.74      0.74       300\n",
      "\n"
     ]
    },
    {
     "data": {
      "image/png": "[encoded data removed]",
      "text/plain": [
       "<Figure size 640x480 with 1 Axes>"
      ]
     },
     "metadata": {},
     "output_type": "display_data"
    }
   ],
   "source": [
    "PrecisionRecallDisplay.from_estimator(model_poly, X_test_transf, y_test)\n",
    "\n",
    "print(classification_report(y_test, y_predict))"
   ]
  },
  {
   "cell_type": "code",
   "execution_count": 40,
   "id": "242d2fab",
   "metadata": {},
   "outputs": [
    {
     "data": {
      "text/html": [
       "<div>\n",
       "<style scoped>\n",
       "    .dataframe tbody tr th:only-of-type {\n",
       "        vertical-align: middle;\n",
       "    }\n",
       "\n",
       "    .dataframe tbody tr th {\n",
       "        vertical-align: top;\n",
       "    }\n",
       "\n",
       "    .dataframe thead th {\n",
       "        text-align: right;\n",
       "    }\n",
       "</style>\n",
       "<table border=\"1\" class=\"dataframe\">\n",
       "  <thead>\n",
       "    <tr style=\"text-align: right;\">\n",
       "      <th></th>\n",
       "      <th>precisions</th>\n",
       "      <th>recalls</th>\n",
       "      <th>thresholds</th>\n",
       "    </tr>\n",
       "  </thead>\n",
       "  <tbody>\n",
       "    <tr>\n",
       "      <th>0</th>\n",
       "      <td>0.500000</td>\n",
       "      <td>1.000000</td>\n",
       "      <td>0.004074</td>\n",
       "    </tr>\n",
       "    <tr>\n",
       "      <th>1</th>\n",
       "      <td>0.501672</td>\n",
       "      <td>1.000000</td>\n",
       "      <td>0.014031</td>\n",
       "    </tr>\n",
       "    <tr>\n",
       "      <th>2</th>\n",
       "      <td>0.503356</td>\n",
       "      <td>1.000000</td>\n",
       "      <td>0.016077</td>\n",
       "    </tr>\n",
       "    <tr>\n",
       "      <th>3</th>\n",
       "      <td>0.505051</td>\n",
       "      <td>1.000000</td>\n",
       "      <td>0.024907</td>\n",
       "    </tr>\n",
       "    <tr>\n",
       "      <th>4</th>\n",
       "      <td>0.506757</td>\n",
       "      <td>1.000000</td>\n",
       "      <td>0.036103</td>\n",
       "    </tr>\n",
       "    <tr>\n",
       "      <th>...</th>\n",
       "      <td>...</td>\n",
       "      <td>...</td>\n",
       "      <td>...</td>\n",
       "    </tr>\n",
       "    <tr>\n",
       "      <th>258</th>\n",
       "      <td>1.000000</td>\n",
       "      <td>0.040000</td>\n",
       "      <td>0.976861</td>\n",
       "    </tr>\n",
       "    <tr>\n",
       "      <th>259</th>\n",
       "      <td>1.000000</td>\n",
       "      <td>0.026667</td>\n",
       "      <td>0.982232</td>\n",
       "    </tr>\n",
       "    <tr>\n",
       "      <th>260</th>\n",
       "      <td>1.000000</td>\n",
       "      <td>0.020000</td>\n",
       "      <td>0.982751</td>\n",
       "    </tr>\n",
       "    <tr>\n",
       "      <th>261</th>\n",
       "      <td>1.000000</td>\n",
       "      <td>0.013333</td>\n",
       "      <td>0.987016</td>\n",
       "    </tr>\n",
       "    <tr>\n",
       "      <th>262</th>\n",
       "      <td>1.000000</td>\n",
       "      <td>0.006667</td>\n",
       "      <td>0.992695</td>\n",
       "    </tr>\n",
       "  </tbody>\n",
       "</table>\n",
       "<p>263 rows × 3 columns</p>\n",
       "</div>"
      ],
      "text/plain": [
       "     precisions   recalls  thresholds\n",
       "0      0.500000  1.000000    0.004074\n",
       "1      0.501672  1.000000    0.014031\n",
       "2      0.503356  1.000000    0.016077\n",
       "3      0.505051  1.000000    0.024907\n",
       "4      0.506757  1.000000    0.036103\n",
       "..          ...       ...         ...\n",
       "258    1.000000  0.040000    0.976861\n",
       "259    1.000000  0.026667    0.982232\n",
       "260    1.000000  0.020000    0.982751\n",
       "261    1.000000  0.013333    0.987016\n",
       "262    1.000000  0.006667    0.992695\n",
       "\n",
       "[263 rows x 3 columns]"
      ]
     },
     "execution_count": 40,
     "metadata": {},
     "output_type": "execute_result"
    }
   ],
   "source": [
    "from sklearn.metrics import precision_recall_curve\n",
    "\n",
    "y_proba_1 = model_poly.predict_proba(X_test_transf)[:, 1]\n",
    "\n",
    "# Obtendo as diferentes precisões e revocações\n",
    "precisions, recalls, thresholds = precision_recall_curve(y_test, y_proba_1)\n",
    "\n",
    "# Inserindo os dados em um dataframe\n",
    "precisions_recalls = pd.DataFrame(data={'precisions':precisions[:-1], \n",
    "                                        'recalls':recalls[:-1], 'thresholds':thresholds})\n",
    "\n",
    "precisions_recalls"
   ]
  },
  {
   "cell_type": "code",
   "execution_count": 41,
   "id": "cc94ae98",
   "metadata": {},
   "outputs": [
    {
     "data": {
      "text/html": [
       "<div>\n",
       "<style scoped>\n",
       "    .dataframe tbody tr th:only-of-type {\n",
       "        vertical-align: middle;\n",
       "    }\n",
       "\n",
       "    .dataframe tbody tr th {\n",
       "        vertical-align: top;\n",
       "    }\n",
       "\n",
       "    .dataframe thead th {\n",
       "        text-align: right;\n",
       "    }\n",
       "</style>\n",
       "<table border=\"1\" class=\"dataframe\">\n",
       "  <thead>\n",
       "    <tr style=\"text-align: right;\">\n",
       "      <th></th>\n",
       "      <th>precisions</th>\n",
       "      <th>recalls</th>\n",
       "      <th>thresholds</th>\n",
       "    </tr>\n",
       "  </thead>\n",
       "  <tbody>\n",
       "    <tr>\n",
       "      <th>160</th>\n",
       "      <td>0.804511</td>\n",
       "      <td>0.713333</td>\n",
       "      <td>0.569521</td>\n",
       "    </tr>\n",
       "    <tr>\n",
       "      <th>161</th>\n",
       "      <td>0.801527</td>\n",
       "      <td>0.700000</td>\n",
       "      <td>0.573325</td>\n",
       "    </tr>\n",
       "    <tr>\n",
       "      <th>162</th>\n",
       "      <td>0.807692</td>\n",
       "      <td>0.700000</td>\n",
       "      <td>0.582891</td>\n",
       "    </tr>\n",
       "    <tr>\n",
       "      <th>163</th>\n",
       "      <td>0.813953</td>\n",
       "      <td>0.700000</td>\n",
       "      <td>0.588280</td>\n",
       "    </tr>\n",
       "    <tr>\n",
       "      <th>164</th>\n",
       "      <td>0.812500</td>\n",
       "      <td>0.693333</td>\n",
       "      <td>0.608251</td>\n",
       "    </tr>\n",
       "    <tr>\n",
       "      <th>...</th>\n",
       "      <td>...</td>\n",
       "      <td>...</td>\n",
       "      <td>...</td>\n",
       "    </tr>\n",
       "    <tr>\n",
       "      <th>258</th>\n",
       "      <td>1.000000</td>\n",
       "      <td>0.040000</td>\n",
       "      <td>0.976861</td>\n",
       "    </tr>\n",
       "    <tr>\n",
       "      <th>259</th>\n",
       "      <td>1.000000</td>\n",
       "      <td>0.026667</td>\n",
       "      <td>0.982232</td>\n",
       "    </tr>\n",
       "    <tr>\n",
       "      <th>260</th>\n",
       "      <td>1.000000</td>\n",
       "      <td>0.020000</td>\n",
       "      <td>0.982751</td>\n",
       "    </tr>\n",
       "    <tr>\n",
       "      <th>261</th>\n",
       "      <td>1.000000</td>\n",
       "      <td>0.013333</td>\n",
       "      <td>0.987016</td>\n",
       "    </tr>\n",
       "    <tr>\n",
       "      <th>262</th>\n",
       "      <td>1.000000</td>\n",
       "      <td>0.006667</td>\n",
       "      <td>0.992695</td>\n",
       "    </tr>\n",
       "  </tbody>\n",
       "</table>\n",
       "<p>103 rows × 3 columns</p>\n",
       "</div>"
      ],
      "text/plain": [
       "     precisions   recalls  thresholds\n",
       "160    0.804511  0.713333    0.569521\n",
       "161    0.801527  0.700000    0.573325\n",
       "162    0.807692  0.700000    0.582891\n",
       "163    0.813953  0.700000    0.588280\n",
       "164    0.812500  0.693333    0.608251\n",
       "..          ...       ...         ...\n",
       "258    1.000000  0.040000    0.976861\n",
       "259    1.000000  0.026667    0.982232\n",
       "260    1.000000  0.020000    0.982751\n",
       "261    1.000000  0.013333    0.987016\n",
       "262    1.000000  0.006667    0.992695\n",
       "\n",
       "[103 rows x 3 columns]"
      ]
     },
     "execution_count": 41,
     "metadata": {},
     "output_type": "execute_result"
    }
   ],
   "source": [
    "precisions_recalls[precisions_recalls['precisions']>=0.8]"
   ]
  },
  {
   "cell_type": "code",
   "execution_count": 42,
   "id": "dc5d6bca",
   "metadata": {},
   "outputs": [
    {
     "name": "stdout",
     "output_type": "stream",
     "text": [
      "Maior acurácia: 0.7733333333333333\n",
      "CutOff da respectiva acurácia: 0.4034517523864632\n"
     ]
    }
   ],
   "source": [
    "from sklearn.metrics import accuracy_score\n",
    "from sklearn.metrics import roc_curve\n",
    "\n",
    "_, _, thresholds = roc_curve(y_test, y_proba_1)\n",
    "accuracy_scores = []\n",
    "for thresh in thresholds:\n",
    "    accuracy_scores.append(accuracy_score(y_test, [prob > thresh for prob in y_proba_1]))\n",
    "\n",
    "accuracies = np.array(accuracy_scores)\n",
    "max_accuracy = accuracies.max() \n",
    "max_accuracy_threshold =  thresholds[accuracies.argmax()]\n",
    "\n",
    "print(\"Maior acurácia:\", max_accuracy)\n",
    "print(\"CutOff da respectiva acurácia:\", max_accuracy_threshold)"
   ]
  },
  {
   "cell_type": "code",
   "execution_count": 43,
   "id": "eb676980",
   "metadata": {},
   "outputs": [
    {
     "data": {
      "text/html": [
       "<div>\n",
       "<style scoped>\n",
       "    .dataframe tbody tr th:only-of-type {\n",
       "        vertical-align: middle;\n",
       "    }\n",
       "\n",
       "    .dataframe tbody tr th {\n",
       "        vertical-align: top;\n",
       "    }\n",
       "\n",
       "    .dataframe thead th {\n",
       "        text-align: right;\n",
       "    }\n",
       "</style>\n",
       "<table border=\"1\" class=\"dataframe\">\n",
       "  <thead>\n",
       "    <tr style=\"text-align: right;\">\n",
       "      <th></th>\n",
       "      <th>Precision</th>\n",
       "      <th>Recall</th>\n",
       "      <th>CufOff</th>\n",
       "    </tr>\n",
       "  </thead>\n",
       "  <tbody>\n",
       "    <tr>\n",
       "      <th>144</th>\n",
       "      <td>0.753333</td>\n",
       "      <td>0.753333</td>\n",
       "      <td>0.51691</td>\n",
       "    </tr>\n",
       "  </tbody>\n",
       "</table>\n",
       "</div>"
      ],
      "text/plain": [
       "     Precision    Recall   CufOff\n",
       "144   0.753333  0.753333  0.51691"
      ]
     },
     "execution_count": 43,
     "metadata": {},
     "output_type": "execute_result"
    }
   ],
   "source": [
    "# CutOff que retorna a mesma precisão e mesma revocação\n",
    "\n",
    "precision_recall = precisions_recalls[precisions_recalls['precisions']==precisions_recalls['recalls']]\n",
    "precision_recall.rename(columns={'precisions': 'Precision', 'recalls': 'Recall', 'thresholds': 'CufOff'})"
   ]
  },
  {
   "cell_type": "markdown",
   "id": "862edffa",
   "metadata": {},
   "source": [
    "Avaliando os modelos, pudemos verificar que o *score* do modelo com polinômios foi levemente menor.\n",
    "\n",
    "Considerando a classe de interesse como a classe 1, ou seja, para quando a pessoa tem diabetes, o modelo com polinômios também teve uma precisão e acurácia menor, apesar da revocação ter ficado mais alta.\n",
    "\n",
    "Ainda, avaliando a maior acurácia entre os modelos, o modelo com polinômios também não conseguiu atingir a mesma taxa de acurácia (apesar de a diferença ser ridicularmente pequena).\n",
    "\n",
    "Poderíamos verificar outras formas de abordar o problema. Por exemplo, se o nosso objetivo seja prever todas as pessoas que tem diabetes, poderíamos buscar por cutoffs com uma precisão maior, mesmo que ele viesse a acabar prevendo mais pessoas que não tem diabetes, mas tudo dependeria do escopo do problema."
   ]
  }
 ],
 "metadata": {
  "kernelspec": {
   "display_name": "Python 3.10.4 ('lets_code')",
   "language": "python",
   "name": "python3"
  },
  "language_info": {
   "codemirror_mode": {
    "name": "ipython",
    "version": 3
   },
   "file_extension": ".py",
   "mimetype": "text/x-python",
   "name": "python",
   "nbconvert_exporter": "python",
   "pygments_lexer": "ipython3",
   "version": "3.10.4"
  },
  "vscode": {
   "interpreter": {
    "hash": "42501f57588da018d70572d9657e1521240ad5f3f9996edd1cafa407b2d29b6e"
   }
  }
 },
 "nbformat": 4,
 "nbformat_minor": 5
}
