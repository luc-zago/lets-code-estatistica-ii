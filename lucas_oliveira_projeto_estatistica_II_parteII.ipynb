{
 "cells": [
  {
   "cell_type": "markdown",
   "id": "51b21752",
   "metadata": {},
   "source": [
    "# Projeto de Estatística II\n",
    "\n",
    "\n",
    "## Parte II - Regressão Logística e Hipóteses mais complexas\n",
    "\n",
    "-------------------------------\n",
    "\n",
    "**Instruções:**\n",
    "\n",
    "- A segunda parte do projeto engloba a avaliação dos tópicos de Regressão Logística e Hipóteses mais complexas.\n",
    "- Ela deve ser entregue até o dia 05/09/2022.\n",
    "- Para a entrega, salve seu notebook na pasta Projetos do nosso drive com o nome do notebook com o seguinte padrão: [primeiro nome]_[sobrenome]_projeto_estatistica_II_parteII.ipynb\n",
    "- A avaliação será registrada nos notebooks em formato de comentários.\n",
    "-------------------------------"
   ]
  },
  {
   "cell_type": "markdown",
   "id": "5b0391d2",
   "metadata": {},
   "source": [
    "1. Treine um um modelo de regressão logística para o dataset 'Pima Indians Diabetes Database' (diabetes.csv) com o objetivo de prever diagnosticamente se um paciente tem ou não diabetes. Maiores detalhes sobre o dataset podem ser encontrados [aqui](https://www.kaggle.com/datasets/uciml/pima-indians-diabetes-database)."
   ]
  },
  {
   "cell_type": "code",
   "execution_count": 45,
   "id": "a5d8c21d",
   "metadata": {},
   "outputs": [
    {
     "data": {
      "text/html": [
       "<div>\n",
       "<style scoped>\n",
       "    .dataframe tbody tr th:only-of-type {\n",
       "        vertical-align: middle;\n",
       "    }\n",
       "\n",
       "    .dataframe tbody tr th {\n",
       "        vertical-align: top;\n",
       "    }\n",
       "\n",
       "    .dataframe thead th {\n",
       "        text-align: right;\n",
       "    }\n",
       "</style>\n",
       "<table border=\"1\" class=\"dataframe\">\n",
       "  <thead>\n",
       "    <tr style=\"text-align: right;\">\n",
       "      <th></th>\n",
       "      <th>Pregnancies</th>\n",
       "      <th>Glucose</th>\n",
       "      <th>BloodPressure</th>\n",
       "      <th>SkinThickness</th>\n",
       "      <th>Insulin</th>\n",
       "      <th>BMI</th>\n",
       "      <th>DiabetesPedigreeFunction</th>\n",
       "      <th>Age</th>\n",
       "      <th>Outcome</th>\n",
       "    </tr>\n",
       "  </thead>\n",
       "  <tbody>\n",
       "    <tr>\n",
       "      <th>0</th>\n",
       "      <td>6</td>\n",
       "      <td>148</td>\n",
       "      <td>72</td>\n",
       "      <td>35</td>\n",
       "      <td>0</td>\n",
       "      <td>33.6</td>\n",
       "      <td>0.627</td>\n",
       "      <td>50</td>\n",
       "      <td>1</td>\n",
       "    </tr>\n",
       "    <tr>\n",
       "      <th>1</th>\n",
       "      <td>1</td>\n",
       "      <td>85</td>\n",
       "      <td>66</td>\n",
       "      <td>29</td>\n",
       "      <td>0</td>\n",
       "      <td>26.6</td>\n",
       "      <td>0.351</td>\n",
       "      <td>31</td>\n",
       "      <td>0</td>\n",
       "    </tr>\n",
       "    <tr>\n",
       "      <th>2</th>\n",
       "      <td>8</td>\n",
       "      <td>183</td>\n",
       "      <td>64</td>\n",
       "      <td>0</td>\n",
       "      <td>0</td>\n",
       "      <td>23.3</td>\n",
       "      <td>0.672</td>\n",
       "      <td>32</td>\n",
       "      <td>1</td>\n",
       "    </tr>\n",
       "    <tr>\n",
       "      <th>3</th>\n",
       "      <td>1</td>\n",
       "      <td>89</td>\n",
       "      <td>66</td>\n",
       "      <td>23</td>\n",
       "      <td>94</td>\n",
       "      <td>28.1</td>\n",
       "      <td>0.167</td>\n",
       "      <td>21</td>\n",
       "      <td>0</td>\n",
       "    </tr>\n",
       "    <tr>\n",
       "      <th>4</th>\n",
       "      <td>0</td>\n",
       "      <td>137</td>\n",
       "      <td>40</td>\n",
       "      <td>35</td>\n",
       "      <td>168</td>\n",
       "      <td>43.1</td>\n",
       "      <td>2.288</td>\n",
       "      <td>33</td>\n",
       "      <td>1</td>\n",
       "    </tr>\n",
       "  </tbody>\n",
       "</table>\n",
       "</div>"
      ],
      "text/plain": [
       "   Pregnancies  Glucose  BloodPressure  SkinThickness  Insulin   BMI  \\\n",
       "0            6      148             72             35        0  33.6   \n",
       "1            1       85             66             29        0  26.6   \n",
       "2            8      183             64              0        0  23.3   \n",
       "3            1       89             66             23       94  28.1   \n",
       "4            0      137             40             35      168  43.1   \n",
       "\n",
       "   DiabetesPedigreeFunction  Age  Outcome  \n",
       "0                     0.627   50        1  \n",
       "1                     0.351   31        0  \n",
       "2                     0.672   32        1  \n",
       "3                     0.167   21        0  \n",
       "4                     2.288   33        1  "
      ]
     },
     "execution_count": 45,
     "metadata": {},
     "output_type": "execute_result"
    }
   ],
   "source": [
    "import pandas as pd\n",
    "\n",
    "df = pd.read_csv('diabetes.csv')\n",
    "\n",
    "df.head()"
   ]
  },
  {
   "cell_type": "code",
   "execution_count": 28,
   "id": "dd12d135",
   "metadata": {},
   "outputs": [
    {
     "name": "stdout",
     "output_type": "stream",
     "text": [
      "<class 'pandas.core.frame.DataFrame'>\n",
      "RangeIndex: 768 entries, 0 to 767\n",
      "Data columns (total 9 columns):\n",
      " #   Column                    Non-Null Count  Dtype  \n",
      "---  ------                    --------------  -----  \n",
      " 0   Pregnancies               768 non-null    int64  \n",
      " 1   Glucose                   768 non-null    int64  \n",
      " 2   BloodPressure             768 non-null    int64  \n",
      " 3   SkinThickness             768 non-null    int64  \n",
      " 4   Insulin                   768 non-null    int64  \n",
      " 5   BMI                       768 non-null    float64\n",
      " 6   DiabetesPedigreeFunction  768 non-null    float64\n",
      " 7   Age                       768 non-null    int64  \n",
      " 8   Outcome                   768 non-null    int64  \n",
      "dtypes: float64(2), int64(7)\n",
      "memory usage: 54.1 KB\n"
     ]
    }
   ],
   "source": [
    "# Iniciando análise dos dados\n",
    "df.info()"
   ]
  },
  {
   "cell_type": "code",
   "execution_count": 4,
   "id": "ec078048",
   "metadata": {},
   "outputs": [
    {
     "data": {
      "text/html": [
       "<div>\n",
       "<style scoped>\n",
       "    .dataframe tbody tr th:only-of-type {\n",
       "        vertical-align: middle;\n",
       "    }\n",
       "\n",
       "    .dataframe tbody tr th {\n",
       "        vertical-align: top;\n",
       "    }\n",
       "\n",
       "    .dataframe thead th {\n",
       "        text-align: right;\n",
       "    }\n",
       "</style>\n",
       "<table border=\"1\" class=\"dataframe\">\n",
       "  <thead>\n",
       "    <tr style=\"text-align: right;\">\n",
       "      <th></th>\n",
       "      <th>Pregnancies</th>\n",
       "      <th>Glucose</th>\n",
       "      <th>BloodPressure</th>\n",
       "      <th>SkinThickness</th>\n",
       "      <th>Insulin</th>\n",
       "      <th>BMI</th>\n",
       "      <th>DiabetesPedigreeFunction</th>\n",
       "      <th>Age</th>\n",
       "      <th>Outcome</th>\n",
       "    </tr>\n",
       "  </thead>\n",
       "  <tbody>\n",
       "    <tr>\n",
       "      <th>count</th>\n",
       "      <td>768.000000</td>\n",
       "      <td>768.000000</td>\n",
       "      <td>768.000000</td>\n",
       "      <td>768.000000</td>\n",
       "      <td>768.000000</td>\n",
       "      <td>768.000000</td>\n",
       "      <td>768.000000</td>\n",
       "      <td>768.000000</td>\n",
       "      <td>768.000000</td>\n",
       "    </tr>\n",
       "    <tr>\n",
       "      <th>mean</th>\n",
       "      <td>3.845052</td>\n",
       "      <td>120.894531</td>\n",
       "      <td>69.105469</td>\n",
       "      <td>20.536458</td>\n",
       "      <td>79.799479</td>\n",
       "      <td>31.992578</td>\n",
       "      <td>0.471876</td>\n",
       "      <td>33.240885</td>\n",
       "      <td>0.348958</td>\n",
       "    </tr>\n",
       "    <tr>\n",
       "      <th>std</th>\n",
       "      <td>3.369578</td>\n",
       "      <td>31.972618</td>\n",
       "      <td>19.355807</td>\n",
       "      <td>15.952218</td>\n",
       "      <td>115.244002</td>\n",
       "      <td>7.884160</td>\n",
       "      <td>0.331329</td>\n",
       "      <td>11.760232</td>\n",
       "      <td>0.476951</td>\n",
       "    </tr>\n",
       "    <tr>\n",
       "      <th>min</th>\n",
       "      <td>0.000000</td>\n",
       "      <td>0.000000</td>\n",
       "      <td>0.000000</td>\n",
       "      <td>0.000000</td>\n",
       "      <td>0.000000</td>\n",
       "      <td>0.000000</td>\n",
       "      <td>0.078000</td>\n",
       "      <td>21.000000</td>\n",
       "      <td>0.000000</td>\n",
       "    </tr>\n",
       "    <tr>\n",
       "      <th>25%</th>\n",
       "      <td>1.000000</td>\n",
       "      <td>99.000000</td>\n",
       "      <td>62.000000</td>\n",
       "      <td>0.000000</td>\n",
       "      <td>0.000000</td>\n",
       "      <td>27.300000</td>\n",
       "      <td>0.243750</td>\n",
       "      <td>24.000000</td>\n",
       "      <td>0.000000</td>\n",
       "    </tr>\n",
       "    <tr>\n",
       "      <th>50%</th>\n",
       "      <td>3.000000</td>\n",
       "      <td>117.000000</td>\n",
       "      <td>72.000000</td>\n",
       "      <td>23.000000</td>\n",
       "      <td>30.500000</td>\n",
       "      <td>32.000000</td>\n",
       "      <td>0.372500</td>\n",
       "      <td>29.000000</td>\n",
       "      <td>0.000000</td>\n",
       "    </tr>\n",
       "    <tr>\n",
       "      <th>75%</th>\n",
       "      <td>6.000000</td>\n",
       "      <td>140.250000</td>\n",
       "      <td>80.000000</td>\n",
       "      <td>32.000000</td>\n",
       "      <td>127.250000</td>\n",
       "      <td>36.600000</td>\n",
       "      <td>0.626250</td>\n",
       "      <td>41.000000</td>\n",
       "      <td>1.000000</td>\n",
       "    </tr>\n",
       "    <tr>\n",
       "      <th>max</th>\n",
       "      <td>17.000000</td>\n",
       "      <td>199.000000</td>\n",
       "      <td>122.000000</td>\n",
       "      <td>99.000000</td>\n",
       "      <td>846.000000</td>\n",
       "      <td>67.100000</td>\n",
       "      <td>2.420000</td>\n",
       "      <td>81.000000</td>\n",
       "      <td>1.000000</td>\n",
       "    </tr>\n",
       "  </tbody>\n",
       "</table>\n",
       "</div>"
      ],
      "text/plain": [
       "       Pregnancies     Glucose  BloodPressure  SkinThickness     Insulin  \\\n",
       "count   768.000000  768.000000     768.000000     768.000000  768.000000   \n",
       "mean      3.845052  120.894531      69.105469      20.536458   79.799479   \n",
       "std       3.369578   31.972618      19.355807      15.952218  115.244002   \n",
       "min       0.000000    0.000000       0.000000       0.000000    0.000000   \n",
       "25%       1.000000   99.000000      62.000000       0.000000    0.000000   \n",
       "50%       3.000000  117.000000      72.000000      23.000000   30.500000   \n",
       "75%       6.000000  140.250000      80.000000      32.000000  127.250000   \n",
       "max      17.000000  199.000000     122.000000      99.000000  846.000000   \n",
       "\n",
       "              BMI  DiabetesPedigreeFunction         Age     Outcome  \n",
       "count  768.000000                768.000000  768.000000  768.000000  \n",
       "mean    31.992578                  0.471876   33.240885    0.348958  \n",
       "std      7.884160                  0.331329   11.760232    0.476951  \n",
       "min      0.000000                  0.078000   21.000000    0.000000  \n",
       "25%     27.300000                  0.243750   24.000000    0.000000  \n",
       "50%     32.000000                  0.372500   29.000000    0.000000  \n",
       "75%     36.600000                  0.626250   41.000000    1.000000  \n",
       "max     67.100000                  2.420000   81.000000    1.000000  "
      ]
     },
     "execution_count": 4,
     "metadata": {},
     "output_type": "execute_result"
    }
   ],
   "source": [
    "df.describe()"
   ]
  },
  {
   "cell_type": "markdown",
   "id": "871585e5",
   "metadata": {},
   "source": [
    "Existem dados um pouco preocupantes nas colunas **Insulin** e **SkinThickness**. Muitos valores como 0 até o primeiro quartil. Por enquanto, apesar da preocupação, não farei nada com os dados."
   ]
  },
  {
   "cell_type": "code",
   "execution_count": 5,
   "id": "2ed8c99d",
   "metadata": {},
   "outputs": [
    {
     "data": {
      "text/plain": [
       "Pregnancies                 0\n",
       "Glucose                     0\n",
       "BloodPressure               0\n",
       "SkinThickness               0\n",
       "Insulin                     0\n",
       "BMI                         0\n",
       "DiabetesPedigreeFunction    0\n",
       "Age                         0\n",
       "Outcome                     0\n",
       "dtype: int64"
      ]
     },
     "execution_count": 5,
     "metadata": {},
     "output_type": "execute_result"
    }
   ],
   "source": [
    "# Verificando nulos\n",
    "df.isnull().sum()"
   ]
  },
  {
   "cell_type": "code",
   "execution_count": 7,
   "id": "aa1e8346",
   "metadata": {},
   "outputs": [
    {
     "data": {
      "text/plain": [
       "0"
      ]
     },
     "execution_count": 7,
     "metadata": {},
     "output_type": "execute_result"
    }
   ],
   "source": [
    "# Verificando dados duplicados\n",
    "df.duplicated().sum()"
   ]
  },
  {
   "cell_type": "code",
   "execution_count": 8,
   "id": "ed5feb90",
   "metadata": {},
   "outputs": [
    {
     "data": {
      "text/plain": [
       "{'whiskers': [<matplotlib.lines.Line2D at 0x7fe993455d80>,\n",
       "  <matplotlib.lines.Line2D at 0x7fe993456050>,\n",
       "  <matplotlib.lines.Line2D at 0x7fe993457160>,\n",
       "  <matplotlib.lines.Line2D at 0x7fe993457430>,\n",
       "  <matplotlib.lines.Line2D at 0x7fe993298550>,\n",
       "  <matplotlib.lines.Line2D at 0x7fe993298820>,\n",
       "  <matplotlib.lines.Line2D at 0x7fe993299900>,\n",
       "  <matplotlib.lines.Line2D at 0x7fe993299bd0>,\n",
       "  <matplotlib.lines.Line2D at 0x7fe99329acb0>,\n",
       "  <matplotlib.lines.Line2D at 0x7fe99329af80>,\n",
       "  <matplotlib.lines.Line2D at 0x7fe9932d40a0>,\n",
       "  <matplotlib.lines.Line2D at 0x7fe9932d4370>,\n",
       "  <matplotlib.lines.Line2D at 0x7fe9932d5450>,\n",
       "  <matplotlib.lines.Line2D at 0x7fe9932d5720>,\n",
       "  <matplotlib.lines.Line2D at 0x7fe9932d6800>,\n",
       "  <matplotlib.lines.Line2D at 0x7fe9932d6ad0>,\n",
       "  <matplotlib.lines.Line2D at 0x7fe9932d7bb0>,\n",
       "  <matplotlib.lines.Line2D at 0x7fe9932d7e80>],\n",
       " 'caps': [<matplotlib.lines.Line2D at 0x7fe9934563e0>,\n",
       "  <matplotlib.lines.Line2D at 0x7fe9934565f0>,\n",
       "  <matplotlib.lines.Line2D at 0x7fe993457700>,\n",
       "  <matplotlib.lines.Line2D at 0x7fe9934579d0>,\n",
       "  <matplotlib.lines.Line2D at 0x7fe993298af0>,\n",
       "  <matplotlib.lines.Line2D at 0x7fe993298dc0>,\n",
       "  <matplotlib.lines.Line2D at 0x7fe993299ea0>,\n",
       "  <matplotlib.lines.Line2D at 0x7fe99329a170>,\n",
       "  <matplotlib.lines.Line2D at 0x7fe99329b250>,\n",
       "  <matplotlib.lines.Line2D at 0x7fe99329b520>,\n",
       "  <matplotlib.lines.Line2D at 0x7fe9932d4640>,\n",
       "  <matplotlib.lines.Line2D at 0x7fe9932d4910>,\n",
       "  <matplotlib.lines.Line2D at 0x7fe9932d59f0>,\n",
       "  <matplotlib.lines.Line2D at 0x7fe9932d5cc0>,\n",
       "  <matplotlib.lines.Line2D at 0x7fe9932d6da0>,\n",
       "  <matplotlib.lines.Line2D at 0x7fe9932d7070>,\n",
       "  <matplotlib.lines.Line2D at 0x7fe9933041c0>,\n",
       "  <matplotlib.lines.Line2D at 0x7fe993304490>],\n",
       " 'boxes': [<matplotlib.lines.Line2D at 0x7fe993455ab0>,\n",
       "  <matplotlib.lines.Line2D at 0x7fe993456e90>,\n",
       "  <matplotlib.lines.Line2D at 0x7fe993298280>,\n",
       "  <matplotlib.lines.Line2D at 0x7fe993299630>,\n",
       "  <matplotlib.lines.Line2D at 0x7fe99329a9e0>,\n",
       "  <matplotlib.lines.Line2D at 0x7fe99329bd90>,\n",
       "  <matplotlib.lines.Line2D at 0x7fe9932d5180>,\n",
       "  <matplotlib.lines.Line2D at 0x7fe9932d6530>,\n",
       "  <matplotlib.lines.Line2D at 0x7fe9932d78e0>],\n",
       " 'medians': [<matplotlib.lines.Line2D at 0x7fe9934568c0>,\n",
       "  <matplotlib.lines.Line2D at 0x7fe993457ca0>,\n",
       "  <matplotlib.lines.Line2D at 0x7fe993299090>,\n",
       "  <matplotlib.lines.Line2D at 0x7fe99329a440>,\n",
       "  <matplotlib.lines.Line2D at 0x7fe99329b7f0>,\n",
       "  <matplotlib.lines.Line2D at 0x7fe9932d4be0>,\n",
       "  <matplotlib.lines.Line2D at 0x7fe9932d5f90>,\n",
       "  <matplotlib.lines.Line2D at 0x7fe9932d7340>,\n",
       "  <matplotlib.lines.Line2D at 0x7fe993304760>],\n",
       " 'fliers': [<matplotlib.lines.Line2D at 0x7fe993456b90>,\n",
       "  <matplotlib.lines.Line2D at 0x7fe993457f70>,\n",
       "  <matplotlib.lines.Line2D at 0x7fe993299360>,\n",
       "  <matplotlib.lines.Line2D at 0x7fe99329a710>,\n",
       "  <matplotlib.lines.Line2D at 0x7fe99329bac0>,\n",
       "  <matplotlib.lines.Line2D at 0x7fe9932d4eb0>,\n",
       "  <matplotlib.lines.Line2D at 0x7fe9932d6260>,\n",
       "  <matplotlib.lines.Line2D at 0x7fe9932d7610>,\n",
       "  <matplotlib.lines.Line2D at 0x7fe993304a30>],\n",
       " 'means': []}"
      ]
     },
     "execution_count": 8,
     "metadata": {},
     "output_type": "execute_result"
    },
    {
     "data": {
      "image/png": "[encoded data removed]",
      "text/plain": [
       "<Figure size 640x480 with 1 Axes>"
      ]
     },
     "metadata": {},
     "output_type": "display_data"
    }
   ],
   "source": [
    "# Verificando outliers\n",
    "\n",
    "import matplotlib.pyplot as plt\n",
    "\n",
    "plt.boxplot(df)"
   ]
  },
  {
   "cell_type": "code",
   "execution_count": 46,
   "id": "24319598",
   "metadata": {},
   "outputs": [],
   "source": [
    "# Removendo outliers\n",
    "\n",
    "import numpy as np\n",
    "\n",
    "for column in df.columns:\n",
    "    # Pegando o primeiro e terceiro quantil\n",
    "    x = np.quantile(df[column], [0.25, 0.75])\n",
    "    \n",
    "    # Calculando IQR\n",
    "    iqr = x[1] - x[0]\n",
    "    \n",
    "    # Definindo os limites superior e inferior\n",
    "    upper_bound = x[1] + 1.5*iqr\n",
    "    lower_bound = x[0] - 1.5*iqr\n",
    "    \n",
    "    # Removendo os outliers\n",
    "    df[column]  = np.where(df[column] > upper_bound, upper_bound,\n",
    "                           (np.where(df[column] < lower_bound, lower_bound, df[column])))"
   ]
  },
  {
   "cell_type": "code",
   "execution_count": 37,
   "id": "c6cf6832",
   "metadata": {},
   "outputs": [
    {
     "data": {
      "text/plain": [
       "{'whiskers': [<matplotlib.lines.Line2D at 0x7fe98c480970>,\n",
       "  <matplotlib.lines.Line2D at 0x7fe98c480c40>,\n",
       "  <matplotlib.lines.Line2D at 0x7fe98c481d20>,\n",
       "  <matplotlib.lines.Line2D at 0x7fe98c481ff0>,\n",
       "  <matplotlib.lines.Line2D at 0x7fe98c4830d0>,\n",
       "  <matplotlib.lines.Line2D at 0x7fe98c4833a0>,\n",
       "  <matplotlib.lines.Line2D at 0x7fe98c2bc4c0>,\n",
       "  <matplotlib.lines.Line2D at 0x7fe98c2bc790>,\n",
       "  <matplotlib.lines.Line2D at 0x7fe98c2bd870>,\n",
       "  <matplotlib.lines.Line2D at 0x7fe98c2bdb40>,\n",
       "  <matplotlib.lines.Line2D at 0x7fe98c2bec50>,\n",
       "  <matplotlib.lines.Line2D at 0x7fe98c2bef20>,\n",
       "  <matplotlib.lines.Line2D at 0x7fe98c2f4040>,\n",
       "  <matplotlib.lines.Line2D at 0x7fe98c2f4310>,\n",
       "  <matplotlib.lines.Line2D at 0x7fe98c2f53f0>,\n",
       "  <matplotlib.lines.Line2D at 0x7fe98c2f56c0>,\n",
       "  <matplotlib.lines.Line2D at 0x7fe98c2f67a0>,\n",
       "  <matplotlib.lines.Line2D at 0x7fe98c2f6a70>],\n",
       " 'caps': [<matplotlib.lines.Line2D at 0x7fe98c480f10>,\n",
       "  <matplotlib.lines.Line2D at 0x7fe98c4811e0>,\n",
       "  <matplotlib.lines.Line2D at 0x7fe98c4822c0>,\n",
       "  <matplotlib.lines.Line2D at 0x7fe98c482590>,\n",
       "  <matplotlib.lines.Line2D at 0x7fe98c483670>,\n",
       "  <matplotlib.lines.Line2D at 0x7fe98c483940>,\n",
       "  <matplotlib.lines.Line2D at 0x7fe98c2bca60>,\n",
       "  <matplotlib.lines.Line2D at 0x7fe98c2bcd30>,\n",
       "  <matplotlib.lines.Line2D at 0x7fe98c2bde10>,\n",
       "  <matplotlib.lines.Line2D at 0x7fe98c2be110>,\n",
       "  <matplotlib.lines.Line2D at 0x7fe98c2bf1f0>,\n",
       "  <matplotlib.lines.Line2D at 0x7fe98c2bf4c0>,\n",
       "  <matplotlib.lines.Line2D at 0x7fe98c2f45e0>,\n",
       "  <matplotlib.lines.Line2D at 0x7fe98c2f48b0>,\n",
       "  <matplotlib.lines.Line2D at 0x7fe98c2f5990>,\n",
       "  <matplotlib.lines.Line2D at 0x7fe98c2f5c60>,\n",
       "  <matplotlib.lines.Line2D at 0x7fe98c2f6d40>,\n",
       "  <matplotlib.lines.Line2D at 0x7fe98c2f7010>],\n",
       " 'boxes': [<matplotlib.lines.Line2D at 0x7fe98c4806a0>,\n",
       "  <matplotlib.lines.Line2D at 0x7fe98c481a50>,\n",
       "  <matplotlib.lines.Line2D at 0x7fe98c482e00>,\n",
       "  <matplotlib.lines.Line2D at 0x7fe98c2bc1f0>,\n",
       "  <matplotlib.lines.Line2D at 0x7fe98c2bd5a0>,\n",
       "  <matplotlib.lines.Line2D at 0x7fe98c2be980>,\n",
       "  <matplotlib.lines.Line2D at 0x7fe98c2bfd30>,\n",
       "  <matplotlib.lines.Line2D at 0x7fe98c2f5120>,\n",
       "  <matplotlib.lines.Line2D at 0x7fe98c2f64d0>],\n",
       " 'medians': [<matplotlib.lines.Line2D at 0x7fe98c4814b0>,\n",
       "  <matplotlib.lines.Line2D at 0x7fe98c482860>,\n",
       "  <matplotlib.lines.Line2D at 0x7fe98c483c10>,\n",
       "  <matplotlib.lines.Line2D at 0x7fe98c2bd000>,\n",
       "  <matplotlib.lines.Line2D at 0x7fe98c2be3e0>,\n",
       "  <matplotlib.lines.Line2D at 0x7fe98c2bf790>,\n",
       "  <matplotlib.lines.Line2D at 0x7fe98c2f4b80>,\n",
       "  <matplotlib.lines.Line2D at 0x7fe98c2f5f30>,\n",
       "  <matplotlib.lines.Line2D at 0x7fe98c2f72e0>],\n",
       " 'fliers': [<matplotlib.lines.Line2D at 0x7fe98c481780>,\n",
       "  <matplotlib.lines.Line2D at 0x7fe98c482b30>,\n",
       "  <matplotlib.lines.Line2D at 0x7fe98c483ee0>,\n",
       "  <matplotlib.lines.Line2D at 0x7fe98c2bd2d0>,\n",
       "  <matplotlib.lines.Line2D at 0x7fe98c2be6b0>,\n",
       "  <matplotlib.lines.Line2D at 0x7fe98c2bfa60>,\n",
       "  <matplotlib.lines.Line2D at 0x7fe98c2f4e50>,\n",
       "  <matplotlib.lines.Line2D at 0x7fe98c2f6200>,\n",
       "  <matplotlib.lines.Line2D at 0x7fe98c2f75b0>],\n",
       " 'means': []}"
      ]
     },
     "execution_count": 37,
     "metadata": {},
     "output_type": "execute_result"
    },
    {
     "data": {
      "image/png": "[encoded data removed]",
      "text/plain": [
       "<Figure size 640x480 with 1 Axes>"
      ]
     },
     "metadata": {},
     "output_type": "display_data"
    }
   ],
   "source": [
    "plt.boxplot(df)"
   ]
  },
  {
   "cell_type": "code",
   "execution_count": 47,
   "id": "f7bc5119",
   "metadata": {},
   "outputs": [
    {
     "data": {
      "text/plain": [
       "<AxesSubplot:xlabel='Outcome', ylabel='Count'>"
      ]
     },
     "execution_count": 47,
     "metadata": {},
     "output_type": "execute_result"
    },
    {
     "data": {
      "image/png": "[encoded data removed]",
      "text/plain": [
       "<Figure size 640x480 with 1 Axes>"
      ]
     },
     "metadata": {},
     "output_type": "display_data"
    }
   ],
   "source": [
    "#Histograma do target\n",
    "import seaborn as sns\n",
    "\n",
    "sns.histplot(df, x=\"Outcome\")"
   ]
  },
  {
   "cell_type": "code",
   "execution_count": 48,
   "id": "317e22f4",
   "metadata": {},
   "outputs": [
    {
     "data": {
      "text/plain": [
       "<AxesSubplot:title={'center':'count (target)'}>"
      ]
     },
     "execution_count": 48,
     "metadata": {},
     "output_type": "execute_result"
    },
    {
     "data": {
      "image/png": "[encoded data removed]",
      "text/plain": [
       "<Figure size 640x480 with 1 Axes>"
      ]
     },
     "metadata": {},
     "output_type": "display_data"
    }
   ],
   "source": [
    "# Contando as classes\n",
    "class_count_0, class_count_1 = df['Outcome'].value_counts()\n",
    "\n",
    "# Separando as classes\n",
    "class_0 = df[df['Outcome'] == 0]\n",
    "class_1 = df[df['Outcome'] == 1]# print the shape of the class\n",
    "\n",
    "# Pegando amostras aleatórias da classe 1\n",
    "class_1_over = class_1.sample(class_count_0, replace=True)\n",
    "\n",
    "# Remodelando o dataset\n",
    "df = pd.concat([class_1_over, class_0], axis=0)\n",
    "\n",
    "df['Outcome'].value_counts().plot(kind='bar', title='count (target)')"
   ]
  },
  {
   "cell_type": "markdown",
   "id": "2ffad304",
   "metadata": {},
   "source": [
    "Aqui, decidimos rebalancear os dados inserindo dados aleatórios da classe 1. Isso pode acabar acarretando em overfitting, mas como estamos falando de um dataset com poucos dados imaginei que essa seria a melhor abordagem."
   ]
  },
  {
   "cell_type": "code",
   "execution_count": 61,
   "id": "5c086412",
   "metadata": {},
   "outputs": [
    {
     "data": {
      "text/html": [
       "<style>#sk-container-id-7 {color: black;background-color: white;}#sk-container-id-7 pre{padding: 0;}#sk-container-id-7 div.sk-toggleable {background-color: white;}#sk-container-id-7 label.sk-toggleable__label {cursor: pointer;display: block;width: 100%;margin-bottom: 0;padding: 0.3em;box-sizing: border-box;text-align: center;}#sk-container-id-7 label.sk-toggleable__label-arrow:before {content: \"▸\";float: left;margin-right: 0.25em;color: #696969;}#sk-container-id-7 label.sk-toggleable__label-arrow:hover:before {color: black;}#sk-container-id-7 div.sk-estimator:hover label.sk-toggleable__label-arrow:before {color: black;}#sk-container-id-7 div.sk-toggleable__content {max-height: 0;max-width: 0;overflow: hidden;text-align: left;background-color: #f0f8ff;}#sk-container-id-7 div.sk-toggleable__content pre {margin: 0.2em;color: black;border-radius: 0.25em;background-color: #f0f8ff;}#sk-container-id-7 input.sk-toggleable__control:checked~div.sk-toggleable__content {max-height: 200px;max-width: 100%;overflow: auto;}#sk-container-id-7 input.sk-toggleable__control:checked~label.sk-toggleable__label-arrow:before {content: \"▾\";}#sk-container-id-7 div.sk-estimator input.sk-toggleable__control:checked~label.sk-toggleable__label {background-color: #d4ebff;}#sk-container-id-7 div.sk-label input.sk-toggleable__control:checked~label.sk-toggleable__label {background-color: #d4ebff;}#sk-container-id-7 input.sk-hidden--visually {border: 0;clip: rect(1px 1px 1px 1px);clip: rect(1px, 1px, 1px, 1px);height: 1px;margin: -1px;overflow: hidden;padding: 0;position: absolute;width: 1px;}#sk-container-id-7 div.sk-estimator {font-family: monospace;background-color: #f0f8ff;border: 1px dotted black;border-radius: 0.25em;box-sizing: border-box;margin-bottom: 0.5em;}#sk-container-id-7 div.sk-estimator:hover {background-color: #d4ebff;}#sk-container-id-7 div.sk-parallel-item::after {content: \"\";width: 100%;border-bottom: 1px solid gray;flex-grow: 1;}#sk-container-id-7 div.sk-label:hover label.sk-toggleable__label {background-color: #d4ebff;}#sk-container-id-7 div.sk-serial::before {content: \"\";position: absolute;border-left: 1px solid gray;box-sizing: border-box;top: 0;bottom: 0;left: 50%;z-index: 0;}#sk-container-id-7 div.sk-serial {display: flex;flex-direction: column;align-items: center;background-color: white;padding-right: 0.2em;padding-left: 0.2em;position: relative;}#sk-container-id-7 div.sk-item {position: relative;z-index: 1;}#sk-container-id-7 div.sk-parallel {display: flex;align-items: stretch;justify-content: center;background-color: white;position: relative;}#sk-container-id-7 div.sk-item::before, #sk-container-id-7 div.sk-parallel-item::before {content: \"\";position: absolute;border-left: 1px solid gray;box-sizing: border-box;top: 0;bottom: 0;left: 50%;z-index: -1;}#sk-container-id-7 div.sk-parallel-item {display: flex;flex-direction: column;z-index: 1;position: relative;background-color: white;}#sk-container-id-7 div.sk-parallel-item:first-child::after {align-self: flex-end;width: 50%;}#sk-container-id-7 div.sk-parallel-item:last-child::after {align-self: flex-start;width: 50%;}#sk-container-id-7 div.sk-parallel-item:only-child::after {width: 0;}#sk-container-id-7 div.sk-dashed-wrapped {border: 1px dashed gray;margin: 0 0.4em 0.5em 0.4em;box-sizing: border-box;padding-bottom: 0.4em;background-color: white;}#sk-container-id-7 div.sk-label label {font-family: monospace;font-weight: bold;display: inline-block;line-height: 1.2em;}#sk-container-id-7 div.sk-label-container {text-align: center;}#sk-container-id-7 div.sk-container {/* jupyter's `normalize.less` sets `[hidden] { display: none; }` but bootstrap.min.css set `[hidden] { display: none !important; }` so we also need the `!important` here to be able to override the default hidden behavior on the sphinx rendered scikit-learn.org. See: https://github.com/scikit-learn/scikit-learn/issues/21755 */display: inline-block !important;position: relative;}#sk-container-id-7 div.sk-text-repr-fallback {display: none;}</style><div id=\"sk-container-id-7\" class=\"sk-top-container\"><div class=\"sk-text-repr-fallback\"><pre>Pipeline(steps=[(&#x27;standardscaler&#x27;, StandardScaler()),\n",
       "                (&#x27;logisticregression&#x27;, LogisticRegression())])</pre><b>In a Jupyter environment, please rerun this cell to show the HTML representation or trust the notebook. <br />On GitHub, the HTML representation is unable to render, please try loading this page with nbviewer.org.</b></div><div class=\"sk-container\" hidden><div class=\"sk-item sk-dashed-wrapped\"><div class=\"sk-label-container\"><div class=\"sk-label sk-toggleable\"><input class=\"sk-toggleable__control sk-hidden--visually\" id=\"sk-estimator-id-15\" type=\"checkbox\" ><label for=\"sk-estimator-id-15\" class=\"sk-toggleable__label sk-toggleable__label-arrow\">Pipeline</label><div class=\"sk-toggleable__content\"><pre>Pipeline(steps=[(&#x27;standardscaler&#x27;, StandardScaler()),\n",
       "                (&#x27;logisticregression&#x27;, LogisticRegression())])</pre></div></div></div><div class=\"sk-serial\"><div class=\"sk-item\"><div class=\"sk-estimator sk-toggleable\"><input class=\"sk-toggleable__control sk-hidden--visually\" id=\"sk-estimator-id-16\" type=\"checkbox\" ><label for=\"sk-estimator-id-16\" class=\"sk-toggleable__label sk-toggleable__label-arrow\">StandardScaler</label><div class=\"sk-toggleable__content\"><pre>StandardScaler()</pre></div></div></div><div class=\"sk-item\"><div class=\"sk-estimator sk-toggleable\"><input class=\"sk-toggleable__control sk-hidden--visually\" id=\"sk-estimator-id-17\" type=\"checkbox\" ><label for=\"sk-estimator-id-17\" class=\"sk-toggleable__label sk-toggleable__label-arrow\">LogisticRegression</label><div class=\"sk-toggleable__content\"><pre>LogisticRegression()</pre></div></div></div></div></div></div></div>"
      ],
      "text/plain": [
       "Pipeline(steps=[('standardscaler', StandardScaler()),\n",
       "                ('logisticregression', LogisticRegression())])"
      ]
     },
     "execution_count": 61,
     "metadata": {},
     "output_type": "execute_result"
    }
   ],
   "source": [
    "#Definindo X e y\n",
    "X = df.drop(columns='Outcome')\n",
    "y = df['Outcome']\n",
    "\n",
    "from sklearn.model_selection import train_test_split\n",
    "from sklearn.linear_model import LogisticRegression\n",
    "from sklearn.pipeline import make_pipeline\n",
    "from sklearn.preprocessing import StandardScaler\n",
    "\n",
    "# Separando os dados\n",
    "X_train, X_test, y_train, y_test = train_test_split(X, y, test_size=0.3, random_state=42)\n",
    "\n",
    "# Instanciando o modelo com uma pipeline para escalonamento dos dados devido a baixa quantidade\n",
    "# de dados\n",
    "model = make_pipeline(StandardScaler(), LogisticRegression())\n",
    "\n",
    "# Treinando o modelo\n",
    "model.fit(X_train, y_train)"
   ]
  },
  {
   "cell_type": "markdown",
   "id": "4faba0fb",
   "metadata": {},
   "source": [
    "2. Após ter treinado o modelo, realize a sua avaliação com as ferramentas que foram apresentadas nas aulas."
   ]
  },
  {
   "cell_type": "code",
   "execution_count": 62,
   "id": "cb11549d",
   "metadata": {},
   "outputs": [
    {
     "data": {
      "text/plain": [
       "0.73"
      ]
     },
     "execution_count": 62,
     "metadata": {},
     "output_type": "execute_result"
    }
   ],
   "source": [
    "model.score(X_test, y_test)"
   ]
  },
  {
   "cell_type": "code",
   "execution_count": 63,
   "id": "aaa24742",
   "metadata": {},
   "outputs": [
    {
     "data": {
      "text/plain": [
       "<sklearn.metrics._plot.confusion_matrix.ConfusionMatrixDisplay at 0x7fe98c117100>"
      ]
     },
     "execution_count": 63,
     "metadata": {},
     "output_type": "execute_result"
    },
    {
     "data": {
      "image/png": "[encoded data removed]",
      "text/plain": [
       "<Figure size 640x480 with 2 Axes>"
      ]
     },
     "metadata": {},
     "output_type": "display_data"
    }
   ],
   "source": [
    "from sklearn.metrics import classification_report, ConfusionMatrixDisplay, PrecisionRecallDisplay\n",
    "\n",
    "y_predict = model.predict(X_test)\n",
    "\n",
    "ConfusionMatrixDisplay.from_predictions(y_test,y_predict)"
   ]
  },
  {
   "cell_type": "code",
   "execution_count": 64,
   "id": "dcc1570c",
   "metadata": {},
   "outputs": [
    {
     "name": "stdout",
     "output_type": "stream",
     "text": [
      "              precision    recall  f1-score   support\n",
      "\n",
      "         0.0       0.70      0.81      0.75       150\n",
      "         1.0       0.78      0.65      0.71       150\n",
      "\n",
      "    accuracy                           0.73       300\n",
      "   macro avg       0.74      0.73      0.73       300\n",
      "weighted avg       0.74      0.73      0.73       300\n",
      "\n"
     ]
    },
    {
     "data": {
      "image/png": "[encoded data removed]",
      "text/plain": [
       "<Figure size 640x480 with 1 Axes>"
      ]
     },
     "metadata": {},
     "output_type": "display_data"
    }
   ],
   "source": [
    "PrecisionRecallDisplay.from_estimator(model, X_test, y_test)\n",
    "\n",
    "print(classification_report(y_test, y_predict))"
   ]
  },
  {
   "cell_type": "markdown",
   "id": "c830df85",
   "metadata": {},
   "source": [
    "3. O cutoff default (0.5) retorna a maior acurácia? Qual é o cutoff que retorna o mesmo valor para o precision e o recall? Qual é esse valor?"
   ]
  },
  {
   "cell_type": "code",
   "execution_count": 54,
   "id": "72608d6a",
   "metadata": {},
   "outputs": [
    {
     "data": {
      "text/html": [
       "<div>\n",
       "<style scoped>\n",
       "    .dataframe tbody tr th:only-of-type {\n",
       "        vertical-align: middle;\n",
       "    }\n",
       "\n",
       "    .dataframe tbody tr th {\n",
       "        vertical-align: top;\n",
       "    }\n",
       "\n",
       "    .dataframe thead th {\n",
       "        text-align: right;\n",
       "    }\n",
       "</style>\n",
       "<table border=\"1\" class=\"dataframe\">\n",
       "  <thead>\n",
       "    <tr style=\"text-align: right;\">\n",
       "      <th></th>\n",
       "      <th>precisions</th>\n",
       "      <th>recalls</th>\n",
       "      <th>thresholds</th>\n",
       "    </tr>\n",
       "  </thead>\n",
       "  <tbody>\n",
       "    <tr>\n",
       "      <th>0</th>\n",
       "      <td>0.500000</td>\n",
       "      <td>1.000000</td>\n",
       "      <td>0.012267</td>\n",
       "    </tr>\n",
       "    <tr>\n",
       "      <th>1</th>\n",
       "      <td>0.501672</td>\n",
       "      <td>1.000000</td>\n",
       "      <td>0.024937</td>\n",
       "    </tr>\n",
       "    <tr>\n",
       "      <th>2</th>\n",
       "      <td>0.503356</td>\n",
       "      <td>1.000000</td>\n",
       "      <td>0.025185</td>\n",
       "    </tr>\n",
       "    <tr>\n",
       "      <th>3</th>\n",
       "      <td>0.505051</td>\n",
       "      <td>1.000000</td>\n",
       "      <td>0.039971</td>\n",
       "    </tr>\n",
       "    <tr>\n",
       "      <th>4</th>\n",
       "      <td>0.506757</td>\n",
       "      <td>1.000000</td>\n",
       "      <td>0.040304</td>\n",
       "    </tr>\n",
       "    <tr>\n",
       "      <th>...</th>\n",
       "      <td>...</td>\n",
       "      <td>...</td>\n",
       "      <td>...</td>\n",
       "    </tr>\n",
       "    <tr>\n",
       "      <th>257</th>\n",
       "      <td>1.000000</td>\n",
       "      <td>0.060000</td>\n",
       "      <td>0.968501</td>\n",
       "    </tr>\n",
       "    <tr>\n",
       "      <th>258</th>\n",
       "      <td>1.000000</td>\n",
       "      <td>0.053333</td>\n",
       "      <td>0.968854</td>\n",
       "    </tr>\n",
       "    <tr>\n",
       "      <th>259</th>\n",
       "      <td>1.000000</td>\n",
       "      <td>0.046667</td>\n",
       "      <td>0.975061</td>\n",
       "    </tr>\n",
       "    <tr>\n",
       "      <th>260</th>\n",
       "      <td>1.000000</td>\n",
       "      <td>0.040000</td>\n",
       "      <td>0.979539</td>\n",
       "    </tr>\n",
       "    <tr>\n",
       "      <th>261</th>\n",
       "      <td>1.000000</td>\n",
       "      <td>0.026667</td>\n",
       "      <td>0.983520</td>\n",
       "    </tr>\n",
       "  </tbody>\n",
       "</table>\n",
       "<p>262 rows × 3 columns</p>\n",
       "</div>"
      ],
      "text/plain": [
       "     precisions   recalls  thresholds\n",
       "0      0.500000  1.000000    0.012267\n",
       "1      0.501672  1.000000    0.024937\n",
       "2      0.503356  1.000000    0.025185\n",
       "3      0.505051  1.000000    0.039971\n",
       "4      0.506757  1.000000    0.040304\n",
       "..          ...       ...         ...\n",
       "257    1.000000  0.060000    0.968501\n",
       "258    1.000000  0.053333    0.968854\n",
       "259    1.000000  0.046667    0.975061\n",
       "260    1.000000  0.040000    0.979539\n",
       "261    1.000000  0.026667    0.983520\n",
       "\n",
       "[262 rows x 3 columns]"
      ]
     },
     "execution_count": 54,
     "metadata": {},
     "output_type": "execute_result"
    }
   ],
   "source": [
    "from sklearn.metrics import precision_recall_curve\n",
    "\n",
    "y_proba_1 = model.predict_proba(X_test)[:, 1]\n",
    "\n",
    "# Obtendo as diferentes precisões e revocações\n",
    "precisions, recalls, thresholds = precision_recall_curve(y_test, y_proba_1)\n",
    "\n",
    "# Inserindo os dados em um dataframe\n",
    "precisions_recalls = pd.DataFrame(data={'precisions':precisions[:-1], \n",
    "                                        'recalls':recalls[:-1], 'thresholds':thresholds})\n",
    "\n",
    "precisions_recalls"
   ]
  },
  {
   "cell_type": "code",
   "execution_count": 24,
   "id": "843e962e",
   "metadata": {},
   "outputs": [
    {
     "data": {
      "text/html": [
       "<div>\n",
       "<style scoped>\n",
       "    .dataframe tbody tr th:only-of-type {\n",
       "        vertical-align: middle;\n",
       "    }\n",
       "\n",
       "    .dataframe tbody tr th {\n",
       "        vertical-align: top;\n",
       "    }\n",
       "\n",
       "    .dataframe thead th {\n",
       "        text-align: right;\n",
       "    }\n",
       "</style>\n",
       "<table border=\"1\" class=\"dataframe\">\n",
       "  <thead>\n",
       "    <tr style=\"text-align: right;\">\n",
       "      <th></th>\n",
       "      <th>precisions</th>\n",
       "      <th>recalls</th>\n",
       "      <th>thresholds</th>\n",
       "    </tr>\n",
       "  </thead>\n",
       "  <tbody>\n",
       "    <tr>\n",
       "      <th>121</th>\n",
       "      <td>0.800000</td>\n",
       "      <td>0.376471</td>\n",
       "      <td>0.742728</td>\n",
       "    </tr>\n",
       "    <tr>\n",
       "      <th>124</th>\n",
       "      <td>0.810811</td>\n",
       "      <td>0.352941</td>\n",
       "      <td>0.763334</td>\n",
       "    </tr>\n",
       "    <tr>\n",
       "      <th>125</th>\n",
       "      <td>0.805556</td>\n",
       "      <td>0.341176</td>\n",
       "      <td>0.763515</td>\n",
       "    </tr>\n",
       "    <tr>\n",
       "      <th>126</th>\n",
       "      <td>0.800000</td>\n",
       "      <td>0.329412</td>\n",
       "      <td>0.766277</td>\n",
       "    </tr>\n",
       "    <tr>\n",
       "      <th>127</th>\n",
       "      <td>0.823529</td>\n",
       "      <td>0.329412</td>\n",
       "      <td>0.780664</td>\n",
       "    </tr>\n",
       "    <tr>\n",
       "      <th>128</th>\n",
       "      <td>0.818182</td>\n",
       "      <td>0.317647</td>\n",
       "      <td>0.782745</td>\n",
       "    </tr>\n",
       "    <tr>\n",
       "      <th>129</th>\n",
       "      <td>0.843750</td>\n",
       "      <td>0.317647</td>\n",
       "      <td>0.784692</td>\n",
       "    </tr>\n",
       "    <tr>\n",
       "      <th>130</th>\n",
       "      <td>0.838710</td>\n",
       "      <td>0.305882</td>\n",
       "      <td>0.793502</td>\n",
       "    </tr>\n",
       "    <tr>\n",
       "      <th>131</th>\n",
       "      <td>0.866667</td>\n",
       "      <td>0.305882</td>\n",
       "      <td>0.806522</td>\n",
       "    </tr>\n",
       "    <tr>\n",
       "      <th>132</th>\n",
       "      <td>0.862069</td>\n",
       "      <td>0.294118</td>\n",
       "      <td>0.808615</td>\n",
       "    </tr>\n",
       "    <tr>\n",
       "      <th>133</th>\n",
       "      <td>0.892857</td>\n",
       "      <td>0.294118</td>\n",
       "      <td>0.818215</td>\n",
       "    </tr>\n",
       "    <tr>\n",
       "      <th>134</th>\n",
       "      <td>0.888889</td>\n",
       "      <td>0.282353</td>\n",
       "      <td>0.819032</td>\n",
       "    </tr>\n",
       "    <tr>\n",
       "      <th>135</th>\n",
       "      <td>0.884615</td>\n",
       "      <td>0.270588</td>\n",
       "      <td>0.820395</td>\n",
       "    </tr>\n",
       "    <tr>\n",
       "      <th>136</th>\n",
       "      <td>0.880000</td>\n",
       "      <td>0.258824</td>\n",
       "      <td>0.840900</td>\n",
       "    </tr>\n",
       "    <tr>\n",
       "      <th>137</th>\n",
       "      <td>0.875000</td>\n",
       "      <td>0.247059</td>\n",
       "      <td>0.858427</td>\n",
       "    </tr>\n",
       "    <tr>\n",
       "      <th>138</th>\n",
       "      <td>0.869565</td>\n",
       "      <td>0.235294</td>\n",
       "      <td>0.861243</td>\n",
       "    </tr>\n",
       "    <tr>\n",
       "      <th>139</th>\n",
       "      <td>0.863636</td>\n",
       "      <td>0.223529</td>\n",
       "      <td>0.862217</td>\n",
       "    </tr>\n",
       "    <tr>\n",
       "      <th>140</th>\n",
       "      <td>0.857143</td>\n",
       "      <td>0.211765</td>\n",
       "      <td>0.868292</td>\n",
       "    </tr>\n",
       "    <tr>\n",
       "      <th>141</th>\n",
       "      <td>0.850000</td>\n",
       "      <td>0.200000</td>\n",
       "      <td>0.868970</td>\n",
       "    </tr>\n",
       "    <tr>\n",
       "      <th>142</th>\n",
       "      <td>0.842105</td>\n",
       "      <td>0.188235</td>\n",
       "      <td>0.869354</td>\n",
       "    </tr>\n",
       "    <tr>\n",
       "      <th>143</th>\n",
       "      <td>0.833333</td>\n",
       "      <td>0.176471</td>\n",
       "      <td>0.872155</td>\n",
       "    </tr>\n",
       "    <tr>\n",
       "      <th>144</th>\n",
       "      <td>0.823529</td>\n",
       "      <td>0.164706</td>\n",
       "      <td>0.872897</td>\n",
       "    </tr>\n",
       "    <tr>\n",
       "      <th>145</th>\n",
       "      <td>0.812500</td>\n",
       "      <td>0.152941</td>\n",
       "      <td>0.879162</td>\n",
       "    </tr>\n",
       "    <tr>\n",
       "      <th>146</th>\n",
       "      <td>0.800000</td>\n",
       "      <td>0.141176</td>\n",
       "      <td>0.883145</td>\n",
       "    </tr>\n",
       "    <tr>\n",
       "      <th>149</th>\n",
       "      <td>0.833333</td>\n",
       "      <td>0.117647</td>\n",
       "      <td>0.900962</td>\n",
       "    </tr>\n",
       "    <tr>\n",
       "      <th>150</th>\n",
       "      <td>0.818182</td>\n",
       "      <td>0.105882</td>\n",
       "      <td>0.903168</td>\n",
       "    </tr>\n",
       "    <tr>\n",
       "      <th>151</th>\n",
       "      <td>0.800000</td>\n",
       "      <td>0.094118</td>\n",
       "      <td>0.908696</td>\n",
       "    </tr>\n",
       "    <tr>\n",
       "      <th>154</th>\n",
       "      <td>0.857143</td>\n",
       "      <td>0.070588</td>\n",
       "      <td>0.941050</td>\n",
       "    </tr>\n",
       "    <tr>\n",
       "      <th>155</th>\n",
       "      <td>0.833333</td>\n",
       "      <td>0.058824</td>\n",
       "      <td>0.951888</td>\n",
       "    </tr>\n",
       "    <tr>\n",
       "      <th>156</th>\n",
       "      <td>0.800000</td>\n",
       "      <td>0.047059</td>\n",
       "      <td>0.958556</td>\n",
       "    </tr>\n",
       "    <tr>\n",
       "      <th>158</th>\n",
       "      <td>1.000000</td>\n",
       "      <td>0.035294</td>\n",
       "      <td>0.971126</td>\n",
       "    </tr>\n",
       "    <tr>\n",
       "      <th>159</th>\n",
       "      <td>1.000000</td>\n",
       "      <td>0.023529</td>\n",
       "      <td>0.971864</td>\n",
       "    </tr>\n",
       "    <tr>\n",
       "      <th>160</th>\n",
       "      <td>1.000000</td>\n",
       "      <td>0.011765</td>\n",
       "      <td>0.972313</td>\n",
       "    </tr>\n",
       "  </tbody>\n",
       "</table>\n",
       "</div>"
      ],
      "text/plain": [
       "     precisions   recalls  thresholds\n",
       "121    0.800000  0.376471    0.742728\n",
       "124    0.810811  0.352941    0.763334\n",
       "125    0.805556  0.341176    0.763515\n",
       "126    0.800000  0.329412    0.766277\n",
       "127    0.823529  0.329412    0.780664\n",
       "128    0.818182  0.317647    0.782745\n",
       "129    0.843750  0.317647    0.784692\n",
       "130    0.838710  0.305882    0.793502\n",
       "131    0.866667  0.305882    0.806522\n",
       "132    0.862069  0.294118    0.808615\n",
       "133    0.892857  0.294118    0.818215\n",
       "134    0.888889  0.282353    0.819032\n",
       "135    0.884615  0.270588    0.820395\n",
       "136    0.880000  0.258824    0.840900\n",
       "137    0.875000  0.247059    0.858427\n",
       "138    0.869565  0.235294    0.861243\n",
       "139    0.863636  0.223529    0.862217\n",
       "140    0.857143  0.211765    0.868292\n",
       "141    0.850000  0.200000    0.868970\n",
       "142    0.842105  0.188235    0.869354\n",
       "143    0.833333  0.176471    0.872155\n",
       "144    0.823529  0.164706    0.872897\n",
       "145    0.812500  0.152941    0.879162\n",
       "146    0.800000  0.141176    0.883145\n",
       "149    0.833333  0.117647    0.900962\n",
       "150    0.818182  0.105882    0.903168\n",
       "151    0.800000  0.094118    0.908696\n",
       "154    0.857143  0.070588    0.941050\n",
       "155    0.833333  0.058824    0.951888\n",
       "156    0.800000  0.047059    0.958556\n",
       "158    1.000000  0.035294    0.971126\n",
       "159    1.000000  0.023529    0.971864\n",
       "160    1.000000  0.011765    0.972313"
      ]
     },
     "execution_count": 24,
     "metadata": {},
     "output_type": "execute_result"
    }
   ],
   "source": [
    "precisions_recalls[precisions_recalls['precisions']>=0.8]"
   ]
  },
  {
   "cell_type": "code",
   "execution_count": 69,
   "id": "ef16178e",
   "metadata": {},
   "outputs": [
    {
     "name": "stdout",
     "output_type": "stream",
     "text": [
      "Maior acurácia: 0.7633333333333333\n",
      "CutOff da respectiva acurácia: 0.3392882084483056\n"
     ]
    }
   ],
   "source": [
    "from sklearn.metrics import accuracy_score\n",
    "from sklearn.metrics import roc_curve\n",
    "\n",
    "_, _, thresholds = roc_curve(y_test, y_proba_1)\n",
    "accuracy_scores = []\n",
    "for thresh in thresholds:\n",
    "    accuracy_scores.append(accuracy_score(y_test, [prob > thresh for prob in y_proba_1]))\n",
    "\n",
    "accuracies = np.array(accuracy_scores)\n",
    "max_accuracy = accuracies.max() \n",
    "max_accuracy_threshold =  thresholds[accuracies.argmax()]\n",
    "\n",
    "print(\"Maior acurácia:\", max_accuracy)\n",
    "print(\"CutOff da respectiva acurácia:\", max_accuracy_threshold)"
   ]
  },
  {
   "cell_type": "code",
   "execution_count": 76,
   "id": "0edb1aa2",
   "metadata": {},
   "outputs": [
    {
     "data": {
      "text/html": [
       "<div>\n",
       "<style scoped>\n",
       "    .dataframe tbody tr th:only-of-type {\n",
       "        vertical-align: middle;\n",
       "    }\n",
       "\n",
       "    .dataframe tbody tr th {\n",
       "        vertical-align: top;\n",
       "    }\n",
       "\n",
       "    .dataframe thead th {\n",
       "        text-align: right;\n",
       "    }\n",
       "</style>\n",
       "<table border=\"1\" class=\"dataframe\">\n",
       "  <thead>\n",
       "    <tr style=\"text-align: right;\">\n",
       "      <th></th>\n",
       "      <th>Precision</th>\n",
       "      <th>Recall</th>\n",
       "      <th>CufOff</th>\n",
       "    </tr>\n",
       "  </thead>\n",
       "  <tbody>\n",
       "    <tr>\n",
       "      <th>141</th>\n",
       "      <td>0.753333</td>\n",
       "      <td>0.753333</td>\n",
       "      <td>0.434309</td>\n",
       "    </tr>\n",
       "  </tbody>\n",
       "</table>\n",
       "</div>"
      ],
      "text/plain": [
       "     Precision    Recall    CufOff\n",
       "141   0.753333  0.753333  0.434309"
      ]
     },
     "execution_count": 76,
     "metadata": {},
     "output_type": "execute_result"
    }
   ],
   "source": [
    "# CutOff que retorna a mesma precisão e mesma revocação\n",
    "\n",
    "precision_recall = precisions_recalls[precisions_recalls['precisions']==precisions_recalls['recalls']]\n",
    "precision_recall.rename(columns={'precisions': 'Precision', 'recalls': 'Recall', 'thresholds': 'CufOff'})"
   ]
  },
  {
   "cell_type": "markdown",
   "id": "21c8c6d1",
   "metadata": {},
   "source": [
    "4. Crie um modelo de Regressão logistica para o mesmo dataset utilizando polynomial features com degree=2. Avalie o modelo e compare com o resultado do modelo anterior."
   ]
  }
 ],
 "metadata": {
  "kernelspec": {
   "display_name": "Python 3.10.4 ('lets_code')",
   "language": "python",
   "name": "python3"
  },
  "language_info": {
   "codemirror_mode": {
    "name": "ipython",
    "version": 3
   },
   "file_extension": ".py",
   "mimetype": "text/x-python",
   "name": "python",
   "nbconvert_exporter": "python",
   "pygments_lexer": "ipython3",
   "version": "3.10.4"
  },
  "vscode": {
   "interpreter": {
    "hash": "42501f57588da018d70572d9657e1521240ad5f3f9996edd1cafa407b2d29b6e"
   }
  }
 },
 "nbformat": 4,
 "nbformat_minor": 5
}
